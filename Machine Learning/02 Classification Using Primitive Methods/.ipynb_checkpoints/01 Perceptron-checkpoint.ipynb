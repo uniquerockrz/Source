{
 "cells": [
  {
   "cell_type": "markdown",
   "metadata": {
    "nteract": {
     "transient": {
      "deleting": false
     }
    }
   },
   "source": [
    "# Classification Using Perceptron\n",
    "\n",
    "We will be building a simple classification model using perceptrons"
   ]
  },
  {
   "cell_type": "markdown",
   "metadata": {
    "nteract": {
     "transient": {
      "deleting": false
     }
    }
   },
   "source": [
    "## Bootstrap All Libraries"
   ]
  },
  {
   "cell_type": "code",
   "execution_count": 1,
   "metadata": {
    "nteract": {
     "transient": {
      "deleting": false
     }
    },
    "tags": []
   },
   "outputs": [],
   "source": [
    "import numpy as np\n",
    "import matplotlib.pyplot as plt"
   ]
  },
  {
   "cell_type": "markdown",
   "metadata": {
    "nteract": {
     "transient": {
      "deleting": false
     }
    }
   },
   "source": [
    "#### Define the Class"
   ]
  },
  {
   "cell_type": "code",
   "execution_count": 13,
   "metadata": {
    "nteract": {
     "transient": {
      "deleting": false
     }
    },
    "tags": []
   },
   "outputs": [],
   "source": [
    "# The Perceptron class\n",
    "class Perceptron:\n",
    "    def __init__(self, learning_rate=0.01, epochs=50, random_state=42) -> None:\n",
    "        self.learning_rate = learning_rate\n",
    "        self.epochs = epochs\n",
    "        self.random_state = random_state\n",
    "\n",
    "    def fit(self, X, y):\n",
    "        random_generator = np.random.RandomState(self.random_state)\n",
    "        self.w_ = random_generator.normal(loc=0.0, scale=0.01, size=X.shape[1])\n",
    "        # self.w_ = np.zeros(X.shape[1])\n",
    "\n",
    "        self.b_ = np.float_(0.)\n",
    "        self.errors_ = []\n",
    "\n",
    "        for i in range(self.epochs):\n",
    "            n_errors = 0\n",
    "            for xi, target in zip(X, y):\n",
    "                update = self.learning_rate * (target - self.predict(xi))\n",
    "                self.w_ += update * xi\n",
    "                self.b_ += update\n",
    "\n",
    "                if update != 0.0:\n",
    "                    n_errors += 1\n",
    "\n",
    "            print('Epoch: {}, Errors: {}, Weights: {}, Bias: {}'.format(i, n_errors, self.w_, self.b_))\n",
    "            self.errors_.append(n_errors)\n",
    "        \n",
    "        return self\n",
    "    \n",
    "    def net_input(self, X):\n",
    "        return np.dot(X, self.w_) + self.b_\n",
    "    \n",
    "    def predict(self, X):\n",
    "        return np.where(self.net_input(X) >= 0.0, 1, 0)"
   ]
  },
  {
   "cell_type": "markdown",
   "metadata": {
    "nteract": {
     "transient": {
      "deleting": false
     }
    }
   },
   "source": [
    "#### Define The Sythetic Data"
   ]
  },
  {
   "cell_type": "code",
   "execution_count": 8,
   "metadata": {
    "nteract": {
     "transient": {
      "deleting": false
     }
    },
    "tags": []
   },
   "outputs": [],
   "source": [
    "# gerenate a linearly separable data\n",
    "x1 = np.arange(0, 20)\n",
    "x2 = np.arange(100, 120)"
   ]
  },
  {
   "cell_type": "code",
   "execution_count": 4,
   "metadata": {
    "nteract": {
     "transient": {
      "deleting": false
     }
    },
    "tags": []
   },
   "outputs": [
    {
     "data": {
      "text/plain": [
       "array([[  0, 100],\n",
       "       [  1, 101],\n",
       "       [  2, 102],\n",
       "       [  3, 103],\n",
       "       [  4, 104],\n",
       "       [  5, 105],\n",
       "       [  6, 106],\n",
       "       [  7, 107],\n",
       "       [  8, 108],\n",
       "       [  9, 109],\n",
       "       [ 10, 110],\n",
       "       [ 11, 111],\n",
       "       [ 12, 112],\n",
       "       [ 13, 113],\n",
       "       [ 14, 114],\n",
       "       [ 15, 115],\n",
       "       [ 16, 116],\n",
       "       [ 17, 117],\n",
       "       [ 18, 118],\n",
       "       [ 19, 119]])"
      ]
     },
     "execution_count": 4,
     "metadata": {},
     "output_type": "execute_result"
    }
   ],
   "source": [
    "X = np.transpose([x1, x2])\n",
    "X"
   ]
  },
  {
   "cell_type": "code",
   "execution_count": 5,
   "metadata": {
    "nteract": {
     "transient": {
      "deleting": false
     }
    },
    "tags": []
   },
   "outputs": [
    {
     "data": {
      "text/plain": [
       "<matplotlib.legend.Legend at 0x10f9c5cd0>"
      ]
     },
     "execution_count": 5,
     "metadata": {},
     "output_type": "execute_result"
    },
    {
     "data": {
      "image/png": "[encoded data removed]",
      "text/plain": [
       "<Figure size 640x480 with 1 Axes>"
      ]
     },
     "metadata": {},
     "output_type": "display_data"
    }
   ],
   "source": [
    "fig, ax = plt.subplots()\n",
    "ax.scatter(X[0:10, 0], X[0:10, 1], color='red', label='Class 0', marker='o')\n",
    "ax.scatter(X[10:20, 0], X[10:20, 1], color='blue', label='Class 1', marker='s')\n",
    "ax.legend()"
   ]
  },
  {
   "cell_type": "code",
   "execution_count": 6,
   "metadata": {
    "nteract": {
     "transient": {
      "deleting": false
     }
    },
    "tags": []
   },
   "outputs": [],
   "source": [
    "y = np.append(np.zeros(10), np.ones(10))"
   ]
  },
  {
   "cell_type": "code",
   "execution_count": 7,
   "metadata": {
    "nteract": {
     "transient": {
      "deleting": false
     }
    },
    "tags": []
   },
   "outputs": [
    {
     "data": {
      "text/plain": [
       "array([0., 0., 0., 0., 0., 0., 0., 0., 0., 0., 1., 1., 1., 1., 1., 1., 1.,\n",
       "       1., 1., 1.])"
      ]
     },
     "execution_count": 7,
     "metadata": {},
     "output_type": "execute_result"
    }
   ],
   "source": [
    "y"
   ]
  },
  {
   "cell_type": "markdown",
   "metadata": {
    "nteract": {
     "transient": {
      "deleting": false
     }
    }
   },
   "source": [
    "#### Fit The Model"
   ]
  },
  {
   "cell_type": "code",
   "execution_count": 14,
   "metadata": {
    "nteract": {
     "transient": {
      "deleting": false
     }
    },
    "tags": []
   },
   "outputs": [],
   "source": [
    "ppn = Perceptron(learning_rate=0.1, epochs=100)"
   ]
  },
  {
   "cell_type": "code",
   "execution_count": 15,
   "metadata": {
    "nteract": {
     "transient": {
      "deleting": false
     }
    },
    "tags": []
   },
   "outputs": [
    {
     "name": "stdout",
     "output_type": "stream",
     "text": [
      "Epoch: 0, Errors: 1, Weights: [ 1.00496714 10.99861736], Bias: 0.1\n",
      "Epoch: 1, Errors: 3, Weights: [1.90496714 1.89861736], Bias: 0.0\n",
      "Epoch: 2, Errors: 2, Weights: [2.90496714 2.89861736], Bias: 0.0\n",
      "Epoch: 3, Errors: 2, Weights: [3.90496714 3.89861736], Bias: 0.0\n",
      "Epoch: 4, Errors: 2, Weights: [4.90496714 4.89861736], Bias: 0.0\n",
      "Epoch: 5, Errors: 2, Weights: [5.90496714 5.89861736], Bias: 0.0\n",
      "Epoch: 6, Errors: 2, Weights: [6.90496714 6.89861736], Bias: 0.0\n",
      "Epoch: 7, Errors: 2, Weights: [7.90496714 7.89861736], Bias: 0.0\n",
      "Epoch: 8, Errors: 2, Weights: [8.90496714 8.89861736], Bias: 0.0\n",
      "Epoch: 9, Errors: 2, Weights: [9.90496714 9.89861736], Bias: 0.0\n",
      "Epoch: 10, Errors: 3, Weights: [10.70496714  0.69861736], Bias: -0.1\n",
      "Epoch: 11, Errors: 2, Weights: [11.70496714  1.69861736], Bias: -0.1\n",
      "Epoch: 12, Errors: 2, Weights: [12.70496714  2.69861736], Bias: -0.1\n",
      "Epoch: 13, Errors: 2, Weights: [13.70496714  3.69861736], Bias: -0.1\n",
      "Epoch: 14, Errors: 2, Weights: [14.70496714  4.69861736], Bias: -0.1\n",
      "Epoch: 15, Errors: 2, Weights: [15.70496714  5.69861736], Bias: -0.1\n",
      "Epoch: 16, Errors: 2, Weights: [16.70496714  6.69861736], Bias: -0.1\n",
      "Epoch: 17, Errors: 2, Weights: [17.70496714  7.69861736], Bias: -0.1\n",
      "Epoch: 18, Errors: 2, Weights: [18.70496714  8.69861736], Bias: -0.1\n",
      "Epoch: 19, Errors: 3, Weights: [18.90496714 -1.10138264], Bias: -0.20000000000000004\n",
      "Epoch: 20, Errors: 2, Weights: [19.20496714 -0.80138264], Bias: -0.20000000000000004\n",
      "Epoch: 21, Errors: 2, Weights: [19.70496714 -0.30138264], Bias: -0.20000000000000004\n",
      "Epoch: 22, Errors: 2, Weights: [20.50496714  0.49861736], Bias: -0.20000000000000004\n",
      "Epoch: 23, Errors: 2, Weights: [21.50496714  1.49861736], Bias: -0.20000000000000004\n",
      "Epoch: 24, Errors: 2, Weights: [22.50496714  2.49861736], Bias: -0.20000000000000004\n",
      "Epoch: 25, Errors: 2, Weights: [23.50496714  3.49861736], Bias: -0.20000000000000004\n",
      "Epoch: 26, Errors: 2, Weights: [24.50496714  4.49861736], Bias: -0.20000000000000004\n",
      "Epoch: 27, Errors: 2, Weights: [25.50496714  5.49861736], Bias: -0.20000000000000004\n",
      "Epoch: 28, Errors: 2, Weights: [26.50496714  6.49861736], Bias: -0.20000000000000004\n",
      "Epoch: 29, Errors: 2, Weights: [27.50496714  7.49861736], Bias: -0.20000000000000004\n",
      "Epoch: 30, Errors: 2, Weights: [28.50496714  8.49861736], Bias: -0.20000000000000004\n",
      "Epoch: 31, Errors: 3, Weights: [28.90496714 -1.10138264], Bias: -0.30000000000000004\n",
      "Epoch: 32, Errors: 2, Weights: [29.50496714 -0.50138264], Bias: -0.30000000000000004\n",
      "Epoch: 33, Errors: 2, Weights: [30.30496714  0.29861736], Bias: -0.30000000000000004\n",
      "Epoch: 34, Errors: 2, Weights: [31.30496714  1.29861736], Bias: -0.30000000000000004\n",
      "Epoch: 35, Errors: 2, Weights: [32.30496714  2.29861736], Bias: -0.30000000000000004\n",
      "Epoch: 36, Errors: 2, Weights: [33.30496714  3.29861736], Bias: -0.30000000000000004\n",
      "Epoch: 37, Errors: 2, Weights: [34.30496714  4.29861736], Bias: -0.30000000000000004\n",
      "Epoch: 38, Errors: 2, Weights: [35.30496714  5.29861736], Bias: -0.30000000000000004\n",
      "Epoch: 39, Errors: 2, Weights: [36.30496714  6.29861736], Bias: -0.30000000000000004\n",
      "Epoch: 40, Errors: 2, Weights: [37.30496714  7.29861736], Bias: -0.30000000000000004\n",
      "Epoch: 41, Errors: 3, Weights: [37.50496714 -2.50138264], Bias: -0.4\n",
      "Epoch: 42, Errors: 2, Weights: [37.70496714 -2.30138264], Bias: -0.4\n",
      "Epoch: 43, Errors: 2, Weights: [38.00496714 -2.00138264], Bias: -0.4\n",
      "Epoch: 44, Errors: 2, Weights: [38.40496714 -1.60138264], Bias: -0.4\n",
      "Epoch: 45, Errors: 2, Weights: [38.90496714 -1.10138264], Bias: -0.4\n",
      "Epoch: 46, Errors: 2, Weights: [39.60496714 -0.40138264], Bias: -0.4\n",
      "Epoch: 47, Errors: 2, Weights: [40.40496714  0.39861736], Bias: -0.4\n",
      "Epoch: 48, Errors: 2, Weights: [41.40496714  1.39861736], Bias: -0.4\n",
      "Epoch: 49, Errors: 2, Weights: [42.40496714  2.39861736], Bias: -0.4\n",
      "Epoch: 50, Errors: 2, Weights: [43.40496714  3.39861736], Bias: -0.4\n",
      "Epoch: 51, Errors: 2, Weights: [44.40496714  4.39861736], Bias: -0.4\n",
      "Epoch: 52, Errors: 2, Weights: [45.40496714  5.39861736], Bias: -0.4\n",
      "Epoch: 53, Errors: 2, Weights: [46.40496714  6.39861736], Bias: -0.4\n",
      "Epoch: 54, Errors: 3, Weights: [46.50496714 -3.50138264], Bias: -0.5\n",
      "Epoch: 55, Errors: 2, Weights: [46.60496714 -3.40138264], Bias: -0.5\n",
      "Epoch: 56, Errors: 2, Weights: [46.80496714 -3.20138264], Bias: -0.5\n",
      "Epoch: 57, Errors: 2, Weights: [47.00496714 -3.00138264], Bias: -0.5\n",
      "Epoch: 58, Errors: 2, Weights: [47.30496714 -2.70138264], Bias: -0.5\n",
      "Epoch: 59, Errors: 2, Weights: [47.60496714 -2.40138264], Bias: -0.5\n",
      "Epoch: 60, Errors: 2, Weights: [48.00496714 -2.00138264], Bias: -0.5\n",
      "Epoch: 61, Errors: 2, Weights: [48.50496714 -1.50138264], Bias: -0.5\n",
      "Epoch: 62, Errors: 2, Weights: [49.10496714 -0.90138264], Bias: -0.5\n",
      "Epoch: 63, Errors: 2, Weights: [49.90496714 -0.10138264], Bias: -0.5\n",
      "Epoch: 64, Errors: 2, Weights: [50.80496714  0.79861736], Bias: -0.5\n",
      "Epoch: 65, Errors: 2, Weights: [51.80496714  1.79861736], Bias: -0.5\n",
      "Epoch: 66, Errors: 2, Weights: [52.80496714  2.79861736], Bias: -0.5\n",
      "Epoch: 67, Errors: 2, Weights: [53.80496714  3.79861736], Bias: -0.5\n",
      "Epoch: 68, Errors: 2, Weights: [54.80496714  4.79861736], Bias: -0.5\n",
      "Epoch: 69, Errors: 2, Weights: [55.80496714  5.79861736], Bias: -0.5\n",
      "Epoch: 70, Errors: 3, Weights: [55.90496714 -4.10138264], Bias: -0.6\n",
      "Epoch: 71, Errors: 2, Weights: [56.10496714 -3.90138264], Bias: -0.6\n",
      "Epoch: 72, Errors: 2, Weights: [56.30496714 -3.70138264], Bias: -0.6\n",
      "Epoch: 73, Errors: 2, Weights: [56.50496714 -3.50138264], Bias: -0.6\n",
      "Epoch: 74, Errors: 2, Weights: [56.80496714 -3.20138264], Bias: -0.6\n",
      "Epoch: 75, Errors: 2, Weights: [57.20496714 -2.80138264], Bias: -0.6\n",
      "Epoch: 76, Errors: 2, Weights: [57.60496714 -2.40138264], Bias: -0.6\n",
      "Epoch: 77, Errors: 2, Weights: [58.10496714 -1.90138264], Bias: -0.6\n",
      "Epoch: 78, Errors: 2, Weights: [58.70496714 -1.30138264], Bias: -0.6\n",
      "Epoch: 79, Errors: 2, Weights: [59.40496714 -0.60138264], Bias: -0.6\n",
      "Epoch: 80, Errors: 2, Weights: [60.20496714  0.19861736], Bias: -0.6\n",
      "Epoch: 81, Errors: 2, Weights: [61.20496714  1.19861736], Bias: -0.6\n",
      "Epoch: 82, Errors: 2, Weights: [62.20496714  2.19861736], Bias: -0.6\n",
      "Epoch: 83, Errors: 2, Weights: [63.20496714  3.19861736], Bias: -0.6\n",
      "Epoch: 84, Errors: 2, Weights: [64.20496714  4.19861736], Bias: -0.6\n",
      "Epoch: 85, Errors: 1, Weights: [64.20496714 -5.80138264], Bias: -0.7\n",
      "Epoch: 86, Errors: 0, Weights: [64.20496714 -5.80138264], Bias: -0.7\n",
      "Epoch: 87, Errors: 0, Weights: [64.20496714 -5.80138264], Bias: -0.7\n",
      "Epoch: 88, Errors: 0, Weights: [64.20496714 -5.80138264], Bias: -0.7\n",
      "Epoch: 89, Errors: 0, Weights: [64.20496714 -5.80138264], Bias: -0.7\n",
      "Epoch: 90, Errors: 0, Weights: [64.20496714 -5.80138264], Bias: -0.7\n",
      "Epoch: 91, Errors: 0, Weights: [64.20496714 -5.80138264], Bias: -0.7\n",
      "Epoch: 92, Errors: 0, Weights: [64.20496714 -5.80138264], Bias: -0.7\n",
      "Epoch: 93, Errors: 0, Weights: [64.20496714 -5.80138264], Bias: -0.7\n",
      "Epoch: 94, Errors: 0, Weights: [64.20496714 -5.80138264], Bias: -0.7\n",
      "Epoch: 95, Errors: 0, Weights: [64.20496714 -5.80138264], Bias: -0.7\n",
      "Epoch: 96, Errors: 0, Weights: [64.20496714 -5.80138264], Bias: -0.7\n",
      "Epoch: 97, Errors: 0, Weights: [64.20496714 -5.80138264], Bias: -0.7\n",
      "Epoch: 98, Errors: 0, Weights: [64.20496714 -5.80138264], Bias: -0.7\n",
      "Epoch: 99, Errors: 0, Weights: [64.20496714 -5.80138264], Bias: -0.7\n"
     ]
    },
    {
     "data": {
      "text/plain": [
       "<__main__.Perceptron at 0x10fd4df50>"
      ]
     },
     "execution_count": 15,
     "metadata": {},
     "output_type": "execute_result"
    }
   ],
   "source": [
    "ppn.fit(X, y)"
   ]
  },
  {
   "cell_type": "markdown",
   "metadata": {
    "nteract": {
     "transient": {
      "deleting": false
     }
    }
   },
   "source": [
    "#### Plot The Decision Regions"
   ]
  },
  {
   "cell_type": "code",
   "execution_count": 11,
   "metadata": {
    "nteract": {
     "transient": {
      "deleting": false
     }
    },
    "tags": []
   },
   "outputs": [],
   "source": [
    "from matplotlib.colors import ListedColormap\n",
    "def plot_decision_regions(X, y, classifier, resolution=0.02):\n",
    "    # setup marker generator and color map\n",
    "    markers = ('o', 's', '^', 'v', '<')\n",
    "    colors = ('red', 'blue', 'lightgreen', 'gray', 'cyan')\n",
    "    cmap = ListedColormap(colors[:len(np.unique(y))])\n",
    "    \n",
    "    # plot the decision surface\n",
    "    x1_min, x1_max = X[:, 0].min() - 1, X[:, 0].max() + 1\n",
    "    x2_min, x2_max = X[:, 1].min() - 1, X[:, 1].max() + 1\n",
    "    xx1, xx2 = np.meshgrid(np.arange(x1_min, x1_max, resolution),\n",
    "                           np.arange(x2_min, x2_max, resolution))\n",
    "    lab = classifier.predict(np.array([xx1.ravel(), xx2.ravel()]).T)\n",
    "    lab = lab.reshape(xx1.shape)\n",
    "    fig, ax = plt.subplots()\n",
    "    ax.contourf(xx1, xx2, lab, alpha=0.3, cmap=cmap)\n",
    "    ax.set_xlim(xx1.min(), xx1.max())\n",
    "    ax.set_ylim(xx2.min(), xx2.max())\n",
    "\n",
    "    # plot class examples\n",
    "    for idx, cl in enumerate(np.unique(y)):\n",
    "        ax.scatter(x=X[y == cl, 0],\n",
    "                y=X[y == cl, 1],\n",
    "                alpha=0.8,\n",
    "                c=colors[idx],\n",
    "                marker=markers[idx],\n",
    "                label=f'Class {cl}',\n",
    "                edgecolor='black')"
   ]
  },
  {
   "cell_type": "code",
   "execution_count": 12,
   "metadata": {
    "nteract": {
     "transient": {
      "deleting": false
     }
    },
    "tags": []
   },
   "outputs": [
    {
     "data": {
      "image/png": "[encoded data removed]",
      "text/plain": [
       "<Figure size 640x480 with 1 Axes>"
      ]
     },
     "metadata": {},
     "output_type": "display_data"
    }
   ],
   "source": [
    "plot_decision_regions(X, y, ppn)"
   ]
  },
  {
   "cell_type": "code",
   "execution_count": 16,
   "metadata": {
    "nteract": {
     "transient": {
      "deleting": false
     }
    },
    "tags": []
   },
   "outputs": [
    {
     "data": {
      "image/png": "[encoded data removed]",
      "text/plain": [
       "<Figure size 640x480 with 1 Axes>"
      ]
     },
     "metadata": {},
     "output_type": "display_data"
    }
   ],
   "source": [
    "plot_decision_regions(X, y, ppn)"
   ]
  }
 ],
 "metadata": {
  "kernel_info": {
   "name": "python3"
  },
  "kernelspec": {
   "display_name": "Python 3 (ipykernel)",
   "language": "python",
   "name": "python3"
  },
  "language_info": {
   "codemirror_mode": {
    "name": "ipython",
    "version": 3
   },
   "file_extension": ".py",
   "mimetype": "text/x-python",
   "name": "python",
   "nbconvert_exporter": "python",
   "pygments_lexer": "ipython3",
   "version": "3.11.0"
  },
  "nteract": {
   "version": "0.28.0"
  }
 },
 "nbformat": 4,
 "nbformat_minor": 4
}

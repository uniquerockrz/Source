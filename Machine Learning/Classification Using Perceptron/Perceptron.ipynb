{
  "cells": [
    {
      "cell_type": "markdown",
      "source": [
        "#### Classification Using Perceptron\n",
        "\n",
        "We will be building a simple classification model using perceptrons"
      ],
      "metadata": {
        "nteract": {
          "transient": {
            "deleting": false
          }
        }
      }
    },
    {
      "cell_type": "markdown",
      "source": [
        "#### Bootstrap All Libraries"
      ],
      "metadata": {
        "nteract": {
          "transient": {
            "deleting": false
          }
        }
      }
    },
    {
      "cell_type": "code",
      "source": [
        "import numpy as np\n",
        "import matplotlib.pyplot as plt"
      ],
      "outputs": [],
      "execution_count": 11,
      "metadata": {
        "collapsed": true,
        "jupyter": {
          "source_hidden": false,
          "outputs_hidden": false
        },
        "nteract": {
          "transient": {
            "deleting": false
          }
        },
        "execution": {
          "iopub.status.busy": "2022-11-16T04:56:07.998Z",
          "iopub.execute_input": "2022-11-16T04:56:08.003Z",
          "iopub.status.idle": "2022-11-16T04:56:08.012Z",
          "shell.execute_reply": "2022-11-16T04:56:08.014Z"
        }
      }
    },
    {
      "cell_type": "markdown",
      "source": [
        "#### Define the Class"
      ],
      "metadata": {
        "nteract": {
          "transient": {
            "deleting": false
          }
        }
      }
    },
    {
      "cell_type": "code",
      "source": [
        "# The Perceptron class\n",
        "class Perceptron:\n",
        "    def __init__(self, learning_rate=0.01, epochs=50, random_state=42) -> None:\n",
        "        self.learning_rate = learning_rate\n",
        "        self.epochs = epochs\n",
        "        self.random_state = random_state\n",
        "\n",
        "    def fit(self, X, y):\n",
        "        random_generator = np.random.RandomState(self.random_state)\n",
        "        # self.w_ = random_generator.normal(loc=0.0, scale=0.01, size=X.shape[1])\n",
        "        self.w_ = np.zeros(X.shape[1])\n",
        "\n",
        "        self.b_ = np.float_(0.)\n",
        "        self.errors_ = []\n",
        "\n",
        "        for i in range(self.epochs):\n",
        "            n_errors = 0\n",
        "            for xi, target in zip(X, y):\n",
        "                update = self.learning_rate * (target - self.predict(xi))\n",
        "                self.w_ += update * xi\n",
        "                self.b_ += update\n",
        "\n",
        "                if update != 0.0:\n",
        "                    n_errors += 1\n",
        "\n",
        "            print('Epoch: {}, Errors: {}, Weights: {}, Bias: {}'.format(i, n_errors, self.w_, self.b_))\n",
        "            self.errors_.append(n_errors)\n",
        "        \n",
        "        return self\n",
        "    \n",
        "    def net_input(self, X):\n",
        "        return np.dot(X, self.w_) + self.b_\n",
        "    \n",
        "    def predict(self, X):\n",
        "        return np.where(self.net_input(X) >= 0.0, 1, 0)\n"
      ],
      "outputs": [],
      "execution_count": 45,
      "metadata": {
        "collapsed": true,
        "jupyter": {
          "source_hidden": false,
          "outputs_hidden": false
        },
        "nteract": {
          "transient": {
            "deleting": false
          }
        },
        "execution": {
          "iopub.status.busy": "2022-11-16T05:12:04.680Z",
          "iopub.execute_input": "2022-11-16T05:12:04.686Z",
          "iopub.status.idle": "2022-11-16T05:12:04.694Z",
          "shell.execute_reply": "2022-11-16T05:12:04.699Z"
        }
      }
    },
    {
      "cell_type": "markdown",
      "source": [
        "#### Define The Sythetic Data"
      ],
      "metadata": {
        "nteract": {
          "transient": {
            "deleting": false
          }
        }
      }
    },
    {
      "cell_type": "code",
      "source": [
        "x1 = np.arange(0, 20)\n",
        "x2 = np.arange(100, 120)"
      ],
      "outputs": [],
      "execution_count": 6,
      "metadata": {
        "collapsed": true,
        "jupyter": {
          "source_hidden": false,
          "outputs_hidden": false
        },
        "nteract": {
          "transient": {
            "deleting": false
          }
        },
        "execution": {
          "iopub.status.busy": "2022-11-16T04:53:13.949Z",
          "iopub.execute_input": "2022-11-16T04:53:13.952Z",
          "iopub.status.idle": "2022-11-16T04:53:13.956Z",
          "shell.execute_reply": "2022-11-16T04:53:13.958Z"
        }
      }
    },
    {
      "cell_type": "code",
      "source": [
        "X = np.transpose([x1, x2])\n",
        "X"
      ],
      "outputs": [
        {
          "output_type": "execute_result",
          "execution_count": 8,
          "data": {
            "text/plain": "array([[  0, 100],\n       [  1, 101],\n       [  2, 102],\n       [  3, 103],\n       [  4, 104],\n       [  5, 105],\n       [  6, 106],\n       [  7, 107],\n       [  8, 108],\n       [  9, 109],\n       [ 10, 110],\n       [ 11, 111],\n       [ 12, 112],\n       [ 13, 113],\n       [ 14, 114],\n       [ 15, 115],\n       [ 16, 116],\n       [ 17, 117],\n       [ 18, 118],\n       [ 19, 119]])"
          },
          "metadata": {}
        }
      ],
      "execution_count": 8,
      "metadata": {
        "collapsed": true,
        "jupyter": {
          "source_hidden": false,
          "outputs_hidden": false
        },
        "nteract": {
          "transient": {
            "deleting": false
          }
        },
        "execution": {
          "iopub.status.busy": "2022-11-16T04:54:29.576Z",
          "iopub.execute_input": "2022-11-16T04:54:29.579Z",
          "iopub.status.idle": "2022-11-16T04:54:29.659Z",
          "shell.execute_reply": "2022-11-16T04:54:29.661Z"
        }
      }
    },
    {
      "cell_type": "code",
      "source": [
        "fig, ax = plt.subplots()\n",
        "ax.scatter(X[0:10, 0], X[0:10, 1], color='red', label='Class 0', marker='o')\n",
        "ax.scatter(X[10:20, 0], X[10:20, 1], color='blue', label='Class 1', marker='s')\n",
        "ax.legend()"
      ],
      "outputs": [
        {
          "output_type": "execute_result",
          "execution_count": 20,
          "data": {
            "text/plain": "<matplotlib.legend.Legend at 0x15431e6d0>"
          },
          "metadata": {}
        },
        {
          "output_type": "display_data",
          "data": {
            "text/plain": "<Figure size 432x288 with 1 Axes>",
            "image/png": "[encoded data removed]"
          },
          "metadata": {
            "needs_background": "light"
          }
        }
      ],
      "execution_count": 20,
      "metadata": {
        "collapsed": true,
        "jupyter": {
          "source_hidden": false,
          "outputs_hidden": false
        },
        "nteract": {
          "transient": {
            "deleting": false
          }
        },
        "execution": {
          "iopub.status.busy": "2022-11-16T05:01:52.510Z",
          "iopub.execute_input": "2022-11-16T05:01:52.514Z",
          "iopub.status.idle": "2022-11-16T05:01:52.542Z",
          "shell.execute_reply": "2022-11-16T05:01:52.546Z"
        }
      }
    },
    {
      "cell_type": "code",
      "source": [
        "y = np.append(np.zeros(10), np.ones(10))"
      ],
      "outputs": [],
      "execution_count": 9,
      "metadata": {
        "collapsed": true,
        "jupyter": {
          "source_hidden": false,
          "outputs_hidden": false
        },
        "nteract": {
          "transient": {
            "deleting": false
          }
        },
        "execution": {
          "iopub.status.busy": "2022-11-16T04:55:10.299Z",
          "iopub.execute_input": "2022-11-16T04:55:10.302Z",
          "iopub.status.idle": "2022-11-16T04:55:10.307Z",
          "shell.execute_reply": "2022-11-16T04:55:10.310Z"
        }
      }
    },
    {
      "cell_type": "code",
      "source": [
        "y"
      ],
      "outputs": [
        {
          "output_type": "execute_result",
          "execution_count": 21,
          "data": {
            "text/plain": "array([0., 0., 0., 0., 0., 0., 0., 0., 0., 0., 1., 1., 1., 1., 1., 1., 1.,\n       1., 1., 1.])"
          },
          "metadata": {}
        }
      ],
      "execution_count": 21,
      "metadata": {
        "collapsed": true,
        "jupyter": {
          "source_hidden": false,
          "outputs_hidden": false
        },
        "nteract": {
          "transient": {
            "deleting": false
          }
        },
        "execution": {
          "iopub.status.busy": "2022-11-16T05:02:28.550Z",
          "iopub.execute_input": "2022-11-16T05:02:28.552Z",
          "iopub.status.idle": "2022-11-16T05:02:28.565Z",
          "shell.execute_reply": "2022-11-16T05:02:28.568Z"
        }
      }
    },
    {
      "cell_type": "markdown",
      "source": [
        "#### Fit The Model"
      ],
      "metadata": {
        "nteract": {
          "transient": {
            "deleting": false
          }
        }
      }
    },
    {
      "cell_type": "code",
      "source": [
        "ppn = Perceptron(learning_rate=0.1, epochs=100)"
      ],
      "outputs": [],
      "execution_count": 46,
      "metadata": {
        "collapsed": true,
        "jupyter": {
          "source_hidden": false,
          "outputs_hidden": false
        },
        "nteract": {
          "transient": {
            "deleting": false
          }
        },
        "execution": {
          "iopub.status.busy": "2022-11-16T05:12:23.146Z",
          "iopub.execute_input": "2022-11-16T05:12:23.152Z",
          "iopub.status.idle": "2022-11-16T05:12:23.162Z",
          "shell.execute_reply": "2022-11-16T05:12:23.168Z"
        }
      }
    },
    {
      "cell_type": "code",
      "source": [
        "ppn.fit(X, y)"
      ],
      "outputs": [
        {
          "output_type": "stream",
          "name": "stdout",
          "text": [
            "Epoch: 0, Errors: 2, Weights: [1. 1.], Bias: 0.0\n",
            "Epoch: 1, Errors: 2, Weights: [2. 2.], Bias: 0.0\n",
            "Epoch: 2, Errors: 2, Weights: [3. 3.], Bias: 0.0\n",
            "Epoch: 3, Errors: 2, Weights: [4. 4.], Bias: 0.0\n",
            "Epoch: 4, Errors: 2, Weights: [5. 5.], Bias: 0.0\n",
            "Epoch: 5, Errors: 2, Weights: [6. 6.], Bias: 0.0\n",
            "Epoch: 6, Errors: 2, Weights: [7. 7.], Bias: 0.0\n",
            "Epoch: 7, Errors: 2, Weights: [8. 8.], Bias: 0.0\n",
            "Epoch: 8, Errors: 2, Weights: [9. 9.], Bias: 0.0\n",
            "Epoch: 9, Errors: 2, Weights: [10. 10.], Bias: 0.0\n",
            "Epoch: 10, Errors: 3, Weights: [10.9  0.9], Bias: -0.1\n",
            "Epoch: 11, Errors: 2, Weights: [11.9  1.9], Bias: -0.1\n",
            "Epoch: 12, Errors: 2, Weights: [12.9  2.9], Bias: -0.1\n",
            "Epoch: 13, Errors: 2, Weights: [13.9  3.9], Bias: -0.1\n",
            "Epoch: 14, Errors: 2, Weights: [14.9  4.9], Bias: -0.1\n",
            "Epoch: 15, Errors: 2, Weights: [15.9  5.9], Bias: -0.1\n",
            "Epoch: 16, Errors: 2, Weights: [16.9  6.9], Bias: -0.1\n",
            "Epoch: 17, Errors: 2, Weights: [17.9  7.9], Bias: -0.1\n",
            "Epoch: 18, Errors: 2, Weights: [18.9  8.9], Bias: -0.1\n",
            "Epoch: 19, Errors: 3, Weights: [19.2 -0.8], Bias: -0.20000000000000004\n",
            "Epoch: 20, Errors: 2, Weights: [19.7 -0.3], Bias: -0.20000000000000004\n",
            "Epoch: 21, Errors: 2, Weights: [20.5  0.5], Bias: -0.20000000000000004\n",
            "Epoch: 22, Errors: 2, Weights: [21.5  1.5], Bias: -0.20000000000000004\n",
            "Epoch: 23, Errors: 2, Weights: [22.5  2.5], Bias: -0.20000000000000004\n",
            "Epoch: 24, Errors: 2, Weights: [23.5  3.5], Bias: -0.20000000000000004\n",
            "Epoch: 25, Errors: 2, Weights: [24.5  4.5], Bias: -0.20000000000000004\n",
            "Epoch: 26, Errors: 2, Weights: [25.5  5.5], Bias: -0.20000000000000004\n",
            "Epoch: 27, Errors: 2, Weights: [26.5  6.5], Bias: -0.20000000000000004\n",
            "Epoch: 28, Errors: 2, Weights: [27.5  7.5], Bias: -0.20000000000000004\n",
            "Epoch: 29, Errors: 2, Weights: [28.5  8.5], Bias: -0.20000000000000004\n",
            "Epoch: 30, Errors: 3, Weights: [28.9 -1.1], Bias: -0.30000000000000004\n",
            "Epoch: 31, Errors: 2, Weights: [29.5 -0.5], Bias: -0.30000000000000004\n",
            "Epoch: 32, Errors: 2, Weights: [30.3  0.3], Bias: -0.30000000000000004\n",
            "Epoch: 33, Errors: 2, Weights: [31.3  1.3], Bias: -0.30000000000000004\n",
            "Epoch: 34, Errors: 2, Weights: [32.3  2.3], Bias: -0.30000000000000004\n",
            "Epoch: 35, Errors: 2, Weights: [33.3  3.3], Bias: -0.30000000000000004\n",
            "Epoch: 36, Errors: 2, Weights: [34.3  4.3], Bias: -0.30000000000000004\n",
            "Epoch: 37, Errors: 2, Weights: [35.3  5.3], Bias: -0.30000000000000004\n",
            "Epoch: 38, Errors: 2, Weights: [36.3  6.3], Bias: -0.30000000000000004\n",
            "Epoch: 39, Errors: 2, Weights: [37.3  7.3], Bias: -0.30000000000000004\n",
            "Epoch: 40, Errors: 3, Weights: [37.5 -2.5], Bias: -0.4\n",
            "Epoch: 41, Errors: 2, Weights: [37.7 -2.3], Bias: -0.4\n",
            "Epoch: 42, Errors: 2, Weights: [38. -2.], Bias: -0.4\n",
            "Epoch: 43, Errors: 2, Weights: [38.4 -1.6], Bias: -0.4\n",
            "Epoch: 44, Errors: 2, Weights: [38.9 -1.1], Bias: -0.4\n",
            "Epoch: 45, Errors: 2, Weights: [39.6 -0.4], Bias: -0.4\n",
            "Epoch: 46, Errors: 2, Weights: [40.4  0.4], Bias: -0.4\n",
            "Epoch: 47, Errors: 2, Weights: [41.4  1.4], Bias: -0.4\n",
            "Epoch: 48, Errors: 2, Weights: [42.4  2.4], Bias: -0.4\n",
            "Epoch: 49, Errors: 2, Weights: [43.4  3.4], Bias: -0.4\n",
            "Epoch: 50, Errors: 2, Weights: [44.4  4.4], Bias: -0.4\n",
            "Epoch: 51, Errors: 2, Weights: [45.4  5.4], Bias: -0.4\n",
            "Epoch: 52, Errors: 2, Weights: [46.4  6.4], Bias: -0.4\n",
            "Epoch: 53, Errors: 3, Weights: [46.5 -3.5], Bias: -0.5\n",
            "Epoch: 54, Errors: 2, Weights: [46.6 -3.4], Bias: -0.5\n",
            "Epoch: 55, Errors: 2, Weights: [46.8 -3.2], Bias: -0.5\n",
            "Epoch: 56, Errors: 2, Weights: [47. -3.], Bias: -0.5\n",
            "Epoch: 57, Errors: 2, Weights: [47.3 -2.7], Bias: -0.5\n",
            "Epoch: 58, Errors: 2, Weights: [47.6 -2.4], Bias: -0.5\n",
            "Epoch: 59, Errors: 2, Weights: [48. -2.], Bias: -0.5\n",
            "Epoch: 60, Errors: 2, Weights: [48.5 -1.5], Bias: -0.5\n",
            "Epoch: 61, Errors: 2, Weights: [49.1 -0.9], Bias: -0.5\n",
            "Epoch: 62, Errors: 2, Weights: [49.9 -0.1], Bias: -0.5\n",
            "Epoch: 63, Errors: 2, Weights: [50.8  0.8], Bias: -0.5\n",
            "Epoch: 64, Errors: 2, Weights: [51.8  1.8], Bias: -0.5\n",
            "Epoch: 65, Errors: 2, Weights: [52.8  2.8], Bias: -0.5\n",
            "Epoch: 66, Errors: 2, Weights: [53.8  3.8], Bias: -0.5\n",
            "Epoch: 67, Errors: 2, Weights: [54.8  4.8], Bias: -0.5\n",
            "Epoch: 68, Errors: 2, Weights: [55.8  5.8], Bias: -0.5\n",
            "Epoch: 69, Errors: 3, Weights: [55.9 -4.1], Bias: -0.6\n",
            "Epoch: 70, Errors: 2, Weights: [56.1 -3.9], Bias: -0.6\n",
            "Epoch: 71, Errors: 2, Weights: [56.3 -3.7], Bias: -0.6\n",
            "Epoch: 72, Errors: 2, Weights: [56.5 -3.5], Bias: -0.6\n",
            "Epoch: 73, Errors: 2, Weights: [56.8 -3.2], Bias: -0.6\n",
            "Epoch: 74, Errors: 2, Weights: [57.2 -2.8], Bias: -0.6\n",
            "Epoch: 75, Errors: 2, Weights: [57.6 -2.4], Bias: -0.6\n",
            "Epoch: 76, Errors: 2, Weights: [58.1 -1.9], Bias: -0.6\n",
            "Epoch: 77, Errors: 2, Weights: [58.7 -1.3], Bias: -0.6\n",
            "Epoch: 78, Errors: 2, Weights: [59.4 -0.6], Bias: -0.6\n",
            "Epoch: 79, Errors: 2, Weights: [60.2  0.2], Bias: -0.6\n",
            "Epoch: 80, Errors: 2, Weights: [61.2  1.2], Bias: -0.6\n",
            "Epoch: 81, Errors: 2, Weights: [62.2  2.2], Bias: -0.6\n",
            "Epoch: 82, Errors: 2, Weights: [63.2  3.2], Bias: -0.6\n",
            "Epoch: 83, Errors: 2, Weights: [64.2  4.2], Bias: -0.6\n",
            "Epoch: 84, Errors: 1, Weights: [64.2 -5.8], Bias: -0.7\n",
            "Epoch: 85, Errors: 0, Weights: [64.2 -5.8], Bias: -0.7\n",
            "Epoch: 86, Errors: 0, Weights: [64.2 -5.8], Bias: -0.7\n",
            "Epoch: 87, Errors: 0, Weights: [64.2 -5.8], Bias: -0.7\n",
            "Epoch: 88, Errors: 0, Weights: [64.2 -5.8], Bias: -0.7\n",
            "Epoch: 89, Errors: 0, Weights: [64.2 -5.8], Bias: -0.7\n",
            "Epoch: 90, Errors: 0, Weights: [64.2 -5.8], Bias: -0.7\n",
            "Epoch: 91, Errors: 0, Weights: [64.2 -5.8], Bias: -0.7\n",
            "Epoch: 92, Errors: 0, Weights: [64.2 -5.8], Bias: -0.7\n",
            "Epoch: 93, Errors: 0, Weights: [64.2 -5.8], Bias: -0.7\n",
            "Epoch: 94, Errors: 0, Weights: [64.2 -5.8], Bias: -0.7\n",
            "Epoch: 95, Errors: 0, Weights: [64.2 -5.8], Bias: -0.7\n",
            "Epoch: 96, Errors: 0, Weights: [64.2 -5.8], Bias: -0.7\n",
            "Epoch: 97, Errors: 0, Weights: [64.2 -5.8], Bias: -0.7\n",
            "Epoch: 98, Errors: 0, Weights: [64.2 -5.8], Bias: -0.7\n",
            "Epoch: 99, Errors: 0, Weights: [64.2 -5.8], Bias: -0.7\n"
          ]
        },
        {
          "output_type": "execute_result",
          "execution_count": 47,
          "data": {
            "text/plain": "<__main__.Perceptron at 0x153f31be0>"
          },
          "metadata": {}
        }
      ],
      "execution_count": 47,
      "metadata": {
        "collapsed": true,
        "jupyter": {
          "source_hidden": false,
          "outputs_hidden": false
        },
        "nteract": {
          "transient": {
            "deleting": false
          }
        },
        "execution": {
          "iopub.status.busy": "2022-11-16T05:12:24.950Z",
          "iopub.execute_input": "2022-11-16T05:12:24.954Z",
          "iopub.status.idle": "2022-11-16T05:12:24.984Z",
          "shell.execute_reply": "2022-11-16T05:12:24.990Z"
        }
      }
    },
    {
      "cell_type": "markdown",
      "source": [
        "#### Plot The Decision Regions"
      ],
      "metadata": {
        "nteract": {
          "transient": {
            "deleting": false
          }
        }
      }
    },
    {
      "cell_type": "code",
      "source": [
        "from matplotlib.colors import ListedColormap\n",
        "def plot_decision_regions(X, y, classifier, resolution=0.02):\n",
        "    # setup marker generator and color map\n",
        "    markers = ('o', 's', '^', 'v', '<')\n",
        "    colors = ('red', 'blue', 'lightgreen', 'gray', 'cyan')\n",
        "    cmap = ListedColormap(colors[:len(np.unique(y))])\n",
        "    # plot the decision surface\n",
        "    x1_min, x1_max = X[:, 0].min() - 1, X[:, 0].max() + 1\n",
        "    x2_min, x2_max = X[:, 1].min() - 1, X[:, 1].max() + 1\n",
        "    xx1, xx2 = np.meshgrid(np.arange(x1_min, x1_max, resolution),\n",
        "                           np.arange(x2_min, x2_max, resolution))\n",
        "    lab = classifier.predict(np.array([xx1.ravel(), xx2.ravel()]).T)\n",
        "    lab = lab.reshape(xx1.shape)\n",
        "    fig, ax = plt.subplots()\n",
        "    ax.contourf(xx1, xx2, lab, alpha=0.3, cmap=cmap)\n",
        "    ax.set_xlim(xx1.min(), xx1.max())\n",
        "    ax.set_ylim(xx2.min(), xx2.max())\n",
        "\n",
        "    # plot class examples\n",
        "    for idx, cl in enumerate(np.unique(y)):\n",
        "        ax.scatter(x=X[y == cl, 0],\n",
        "                y=X[y == cl, 1],\n",
        "                alpha=0.8,\n",
        "                c=colors[idx],\n",
        "                marker=markers[idx],\n",
        "                label=f'Class {cl}',\n",
        "                edgecolor='black')"
      ],
      "outputs": [],
      "execution_count": 31,
      "metadata": {
        "collapsed": true,
        "jupyter": {
          "source_hidden": false,
          "outputs_hidden": false
        },
        "nteract": {
          "transient": {
            "deleting": false
          }
        },
        "execution": {
          "iopub.status.busy": "2022-11-16T05:07:22.263Z",
          "iopub.execute_input": "2022-11-16T05:07:22.268Z",
          "iopub.status.idle": "2022-11-16T05:07:22.278Z",
          "shell.execute_reply": "2022-11-16T05:07:22.285Z"
        }
      }
    },
    {
      "cell_type": "code",
      "source": [
        "plot_decision_regions(X, y, ppn)"
      ],
      "outputs": [
        {
          "output_type": "display_data",
          "data": {
            "text/plain": "<Figure size 432x288 with 1 Axes>",
            "image/png": "[encoded data removed]"
          },
          "metadata": {
            "needs_background": "light"
          }
        }
      ],
      "execution_count": 32,
      "metadata": {
        "collapsed": true,
        "jupyter": {
          "source_hidden": false,
          "outputs_hidden": false
        },
        "nteract": {
          "transient": {
            "deleting": false
          }
        },
        "execution": {
          "iopub.status.busy": "2022-11-16T05:07:23.979Z",
          "iopub.execute_input": "2022-11-16T05:07:23.985Z",
          "iopub.status.idle": "2022-11-16T05:07:24.095Z",
          "shell.execute_reply": "2022-11-16T05:07:24.098Z"
        }
      }
    },
    {
      "cell_type": "code",
      "source": [
        "plot_decision_regions(X, y, ppn)"
      ],
      "outputs": [
        {
          "output_type": "display_data",
          "data": {
            "text/plain": "<Figure size 432x288 with 1 Axes>",
            "image/png": "[encoded data removed]"
          },
          "metadata": {
            "needs_background": "light"
          }
        }
      ],
      "execution_count": 48,
      "metadata": {
        "collapsed": true,
        "jupyter": {
          "source_hidden": false,
          "outputs_hidden": false
        },
        "nteract": {
          "transient": {
            "deleting": false
          }
        },
        "execution": {
          "iopub.status.busy": "2022-11-16T05:13:19.173Z",
          "iopub.execute_input": "2022-11-16T05:13:19.180Z",
          "iopub.status.idle": "2022-11-16T05:13:19.299Z",
          "shell.execute_reply": "2022-11-16T05:13:19.312Z"
        }
      }
    },
    {
      "cell_type": "code",
      "source": [
        "plot_decision_regions(X, y, ppn)"
      ],
      "outputs": [
        {
          "output_type": "display_data",
          "data": {
            "text/plain": "<Figure size 432x288 with 1 Axes>",
            "image/png": "[encoded data removed]"
          },
          "metadata": {
            "needs_background": "light"
          }
        }
      ],
      "execution_count": 40,
      "metadata": {
        "collapsed": true,
        "jupyter": {
          "source_hidden": false,
          "outputs_hidden": false
        },
        "nteract": {
          "transient": {
            "deleting": false
          }
        },
        "execution": {
          "iopub.status.busy": "2022-11-16T05:09:46.698Z",
          "iopub.execute_input": "2022-11-16T05:09:46.704Z",
          "iopub.status.idle": "2022-11-16T05:09:46.795Z",
          "shell.execute_reply": "2022-11-16T05:09:46.805Z"
        }
      }
    },
    {
      "cell_type": "code",
      "source": [
        "plot_decision_regions(X, y, ppn)"
      ],
      "outputs": [
        {
          "output_type": "display_data",
          "data": {
            "text/plain": "<Figure size 432x288 with 1 Axes>",
            "image/png": "[encoded data removed]"
          },
          "metadata": {
            "needs_background": "light"
          }
        }
      ],
      "execution_count": 44,
      "metadata": {
        "collapsed": true,
        "jupyter": {
          "source_hidden": false,
          "outputs_hidden": false
        },
        "nteract": {
          "transient": {
            "deleting": false
          }
        },
        "execution": {
          "iopub.status.busy": "2022-11-16T05:10:39.089Z",
          "iopub.execute_input": "2022-11-16T05:10:39.096Z",
          "iopub.status.idle": "2022-11-16T05:10:39.154Z",
          "shell.execute_reply": "2022-11-16T05:10:39.163Z"
        }
      }
    },
    {
      "cell_type": "code",
      "source": [],
      "outputs": [],
      "execution_count": null,
      "metadata": {
        "collapsed": true,
        "jupyter": {
          "source_hidden": false,
          "outputs_hidden": false
        },
        "nteract": {
          "transient": {
            "deleting": false
          }
        }
      }
    }
  ],
  "metadata": {
    "kernel_info": {
      "name": "python3"
    },
    "language_info": {
      "name": "python",
      "version": "3.9.7",
      "mimetype": "text/x-python",
      "codemirror_mode": {
        "name": "ipython",
        "version": 3
      },
      "pygments_lexer": "ipython3",
      "nbconvert_exporter": "python",
      "file_extension": ".py"
    },
    "kernelspec": {
      "argv": [
        "/Users/srvmdk/.anaconda3/bin/python",
        "-m",
        "ipykernel_launcher",
        "-f",
        "{connection_file}"
      ],
      "display_name": "Python 3 (ipykernel)",
      "language": "python",
      "metadata": {
        "debugger": true
      },
      "name": "python3"
    },
    "nteract": {
      "version": "0.28.0"
    }
  },
  "nbformat": 4,
  "nbformat_minor": 0
}
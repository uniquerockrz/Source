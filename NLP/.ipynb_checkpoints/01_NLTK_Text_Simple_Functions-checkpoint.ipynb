{
 "cells": [
  {
   "cell_type": "markdown",
   "id": "2dfe7fdc-dbfd-45b2-9ef2-832514697adc",
   "metadata": {},
   "source": [
    "# Exploring Some Of The Functions From NLTK Book Corpus\n",
    "\n",
    "Reference: *Natural Language Processing With Python Book*\n",
    "\n",
    "We load the NLTK book corpus and try out some basic functions on them"
   ]
  },
  {
   "cell_type": "code",
   "execution_count": 1,
   "id": "7119cc6a-cd84-4c3d-b279-c5313300dd90",
   "metadata": {},
   "outputs": [
    {
     "name": "stdout",
     "output_type": "stream",
     "text": [
      "*** Introductory Examples for the NLTK Book ***\n",
      "Loading text1, ..., text9 and sent1, ..., sent9\n",
      "Type the name of the text or sentence to view it.\n",
      "Type: 'texts()' or 'sents()' to list the materials.\n",
      "text1: Moby Dick by Herman Melville 1851\n",
      "text2: Sense and Sensibility by Jane Austen 1811\n",
      "text3: The Book of Genesis\n",
      "text4: Inaugural Address Corpus\n",
      "text5: Chat Corpus\n",
      "text6: Monty Python and the Holy Grail\n",
      "text7: Wall Street Journal\n",
      "text8: Personals Corpus\n",
      "text9: The Man Who Was Thursday by G . K . Chesterton 1908\n"
     ]
    }
   ],
   "source": [
    "from nltk.book import *"
   ]
  },
  {
   "cell_type": "markdown",
   "id": "afd1a618-05ca-42de-b224-e89f5a1705dd",
   "metadata": {},
   "source": [
    "### Search Text"
   ]
  },
  {
   "cell_type": "markdown",
   "id": "d0b88178-456a-4cf1-8b87-c658d293ac89",
   "metadata": {},
   "source": [
    "`concordance`: Find direct matches of a word"
   ]
  },
  {
   "cell_type": "code",
   "execution_count": 5,
   "id": "92de709a-74c3-4411-8ce6-c988ef924238",
   "metadata": {},
   "outputs": [
    {
     "name": "stdout",
     "output_type": "stream",
     "text": [
      "Displaying 11 of 11 matches:\n",
      "ong the former , one was of a most monstrous size . ... This came towards us , \n",
      "ON OF THE PSALMS . \" Touching that monstrous bulk of the whale or ork we have r\n",
      "ll over with a heathenish array of monstrous clubs and spears . Some were thick\n",
      "d as you gazed , and wondered what monstrous cannibal and savage could ever hav\n",
      "that has survived the flood ; most monstrous and most mountainous ! That Himmal\n",
      "they might scout at Moby Dick as a monstrous fable , or still worse and more de\n",
      "th of Radney .'\" CHAPTER 55 Of the Monstrous Pictures of Whales . I shall ere l\n",
      "ing Scenes . In connexion with the monstrous pictures of whales , I am strongly\n",
      "ere to enter upon those still more monstrous stories of them which are to be fo\n",
      "ght have been rummaged out of this monstrous cabinet there is no telling . But \n",
      "of Whale - Bones ; for Whales of a monstrous size are oftentimes cast up dead u\n"
     ]
    }
   ],
   "source": [
    "text1.concordance('monstrous')"
   ]
  },
  {
   "cell_type": "code",
   "execution_count": 6,
   "id": "4ed66668-e9bf-42ea-b8cd-2440ea7fea4a",
   "metadata": {},
   "outputs": [
    {
     "data": {
      "text/plain": [
       "[ConcordanceLine(left=['Whales', 'and', 'other', 'monsters', 'of', 'the', 'sea', ',', 'appeared', '.', 'Among', 'the', 'former', ',', 'one', 'was', 'of', 'a', 'most'], query='monstrous', right=['size', '.', '...', 'This', 'came', 'towards', 'us', ',', 'open', '-', 'mouthed', ',', 'raising', 'the', 'waves', 'on', 'all', 'sides'], offset=899, left_print='ong the former , one was of a most', right_print='size . ... This came towards us , ', line='ong the former , one was of a most monstrous size . ... This came towards us , '),\n",
       " ConcordanceLine(left=['to', 'seethe', 'like', 'boiling', 'pan', '.\"', '--', 'LORD', 'BACON', \"'\", 'S', 'VERSION', 'OF', 'THE', 'PSALMS', '.', '\"', 'Touching', 'that'], query='monstrous', right=['bulk', 'of', 'the', 'whale', 'or', 'ork', 'we', 'have', 'received', 'nothing', 'certain', '.', 'They', 'grow', 'exceeding', 'fat', ',', 'insomuch'], offset=1176, left_print='ON OF THE PSALMS . \" Touching that', right_print='bulk of the whale or ork we have r', line='ON OF THE PSALMS . \" Touching that monstrous bulk of the whale or ork we have r'),\n",
       " ConcordanceLine(left=['mast', '-', 'heads', '.', 'The', 'opposite', 'wall', 'of', 'this', 'entry', 'was', 'hung', 'all', 'over', 'with', 'a', 'heathenish', 'array', 'of'], query='monstrous', right=['clubs', 'and', 'spears', '.', 'Some', 'were', 'thickly', 'set', 'with', 'glittering', 'teeth', 'resembling', 'ivory', 'saws', ';', 'others', 'were', 'tufted'], offset=9530, left_print='ll over with a heathenish array of', right_print='clubs and spears . Some were thick', line='ll over with a heathenish array of monstrous clubs and spears . Some were thick'),\n",
       " ConcordanceLine(left=['-', 'mown', 'grass', 'by', 'a', 'long', '-', 'armed', 'mower', '.', 'You', 'shuddered', 'as', 'you', 'gazed', ',', 'and', 'wondered', 'what'], query='monstrous', right=['cannibal', 'and', 'savage', 'could', 'ever', 'have', 'gone', 'a', 'death', '-', 'harvesting', 'with', 'such', 'a', 'hacking', ',', 'horrifying', 'implement'], offset=9594, left_print='d as you gazed , and wondered what', right_print='cannibal and savage could ever hav', line='d as you gazed , and wondered what monstrous cannibal and savage could ever hav'),\n",
       " ConcordanceLine(left=['seasons', 'and', 'all', 'oceans', 'declared', 'everlasting', 'war', 'with', 'the', 'mightiest', 'animated', 'mass', 'that', 'has', 'survived', 'the', 'flood', ';', 'most'], query='monstrous', right=['and', 'most', 'mountainous', '!', 'That', 'Himmalehan', ',', 'salt', '-', 'sea', 'Mastodon', ',', 'clothed', 'with', 'such', 'portentousness', 'of', 'unconscious'], offset=32717, left_print='that has survived the flood ; most', right_print='and most mountainous ! That Himmal', line='that has survived the flood ; most monstrous and most mountainous ! That Himmal'),\n",
       " ConcordanceLine(left=['plain', 'facts', ',', 'historical', 'and', 'otherwise', ',', 'of', 'the', 'fishery', ',', 'they', 'might', 'scout', 'at', 'Moby', 'Dick', 'as', 'a'], query='monstrous', right=['fable', ',', 'or', 'still', 'worse', 'and', 'more', 'detestable', ',', 'a', 'hideous', 'and', 'intolerable', 'allegory', '.', 'First', ':', 'Though'], offset=96103, left_print='they might scout at Moby Dick as a', right_print='fable , or still worse and more de', line='they might scout at Moby Dick as a monstrous fable , or still worse and more de'),\n",
       " ConcordanceLine(left=['crew', ';', 'I', 'have', 'seen', 'and', 'talked', 'with', 'Steelkilt', 'since', 'the', 'death', 'of', 'Radney', '.\\'\"', 'CHAPTER', '55', 'Of', 'the'], query='Monstrous', right=['Pictures', 'of', 'Whales', '.', 'I', 'shall', 'ere', 'long', 'paint', 'to', 'you', 'as', 'well', 'as', 'one', 'can', 'without', 'canvas'], offset=122521, left_print='th of Radney .\\'\" CHAPTER 55 Of the', right_print='Pictures of Whales . I shall ere l', line='th of Radney .\\'\" CHAPTER 55 Of the Monstrous Pictures of Whales . I shall ere l'),\n",
       " ConcordanceLine(left=['the', 'Less', 'Erroneous', 'Pictures', 'of', 'Whales', ',', 'and', 'the', 'True', 'Pictures', 'of', 'Whaling', 'Scenes', '.', 'In', 'connexion', 'with', 'the'], query='monstrous', right=['pictures', 'of', 'whales', ',', 'I', 'am', 'strongly', 'tempted', 'here', 'to', 'enter', 'upon', 'those', 'still', 'more', 'monstrous', 'stories', 'of'], offset=124761, left_print='ing Scenes . In connexion with the', right_print='pictures of whales , I am strongly', line='ing Scenes . In connexion with the monstrous pictures of whales , I am strongly'),\n",
       " ConcordanceLine(left=['connexion', 'with', 'the', 'monstrous', 'pictures', 'of', 'whales', ',', 'I', 'am', 'strongly', 'tempted', 'here', 'to', 'enter', 'upon', 'those', 'still', 'more'], query='monstrous', right=['stories', 'of', 'them', 'which', 'are', 'to', 'be', 'found', 'in', 'certain', 'books', ',', 'both', 'ancient', 'and', 'modern', ',', 'especially'], offset=124777, left_print='ere to enter upon those still more', right_print='stories of them which are to be fo', line='ere to enter upon those still more monstrous stories of them which are to be fo'),\n",
       " ConcordanceLine(left=[\"'\", 'West', 'Indian', 'long', 'before', 'America', 'was', 'discovered', '.', 'What', 'other', 'marvels', 'might', 'have', 'been', 'rummaged', 'out', 'of', 'this'], query='monstrous', right=['cabinet', 'there', 'is', 'no', 'telling', '.', 'But', 'a', 'sudden', 'stop', 'was', 'put', 'to', 'further', 'discoveries', ',', 'by', 'the'], offset=165681, left_print='ght have been rummaged out of this', right_print='cabinet there is no telling . But ', line='ght have been rummaged out of this monstrous cabinet there is no telling . But '),\n",
       " ConcordanceLine(left=['Temple', ',', 'the', 'Rafters', 'and', 'Beams', 'of', 'which', 'are', 'made', 'of', 'Whale', '-', 'Bones', ';', 'for', 'Whales', 'of', 'a'], query='monstrous', right=['size', 'are', 'oftentimes', 'cast', 'up', 'dead', 'upon', 'that', 'shore', '.', 'The', 'Common', 'People', 'imagine', ',', 'that', 'by', 'a'], offset=209645, left_print='of Whale - Bones ; for Whales of a', right_print='size are oftentimes cast up dead u', line='of Whale - Bones ; for Whales of a monstrous size are oftentimes cast up dead u')]"
      ]
     },
     "execution_count": 6,
     "metadata": {},
     "output_type": "execute_result"
    }
   ],
   "source": [
    "text1.concordance_list('monstrous')"
   ]
  },
  {
   "cell_type": "code",
   "execution_count": 11,
   "id": "b1cc7752-a08d-46f3-bc78-4798905b6160",
   "metadata": {},
   "outputs": [
    {
     "data": {
      "text/plain": [
       "[ConcordanceLine(left=['those', 'of', 'the', 'United', 'States', '.', 'Every', 'step', 'by', 'which', 'they', 'have', 'advanced', 'to', 'the', 'character', 'of', 'an', 'independent'], query='nation', right=['seems', 'to', 'have', 'been', 'distinguished', 'by', 'some', 'token', 'of', 'providential', 'agency', ';', 'and', 'in', 'the', 'important', 'revolution', 'just'], offset=546, left_print=' to the character of an independent', right_print='seems to have been distinguished by', line=' to the character of an independent nation seems to have been distinguished by'),\n",
       " ConcordanceLine(left=['we', 'ought', 'to', 'be', 'no', 'less', 'persuaded', 'that', 'the', 'propitious', 'smiles', 'of', 'Heaven', 'can', 'never', 'be', 'expected', 'on', 'a'], query='nation', right=['that', 'disregards', 'the', 'eternal', 'rules', 'of', 'order', 'and', 'right', 'which', 'Heaven', 'itself', 'has', 'ordained', ';', 'and', 'since', 'the'], offset=1012, left_print='f Heaven can never be expected on a', right_print='that disregards the eternal rules o', line='f Heaven can never be expected on a nation that disregards the eternal rules o'),\n",
       " ConcordanceLine(left=['under', 'an', 'overruling', 'Providence', 'which', 'had', 'so', 'signally', 'protected', 'this', 'country', 'from', 'the', 'first', ',', 'the', 'representatives', 'of', 'this'], query='nation', right=[',', 'then', 'consisting', 'of', 'little', 'more', 'than', 'half', 'its', 'present', 'number', ',', 'not', 'only', 'broke', 'to', 'pieces', 'the'], offset=1813, left_print='first , the representatives of this', right_print=', then consisting of little more th', line='first , the representatives of this nation , then consisting of little more th'),\n",
       " ConcordanceLine(left=['hearts', ',', 'as', 'an', 'experiment', 'better', 'adapted', 'to', 'the', 'genius', ',', 'character', ',', 'situation', ',', 'and', 'relations', 'of', 'this'], query='nation', right=['and', 'country', 'than', 'any', 'which', 'had', 'ever', 'been', 'proposed', 'or', 'suggested', '.', 'In', 'its', 'general', 'principles', 'and', 'great'], offset=2268, left_print=', situation , and relations of this', right_print='and country than any which had ever', line=', situation , and relations of this nation and country than any which had ever'),\n",
       " ConcordanceLine(left=['administration', ',', 'and', 'delight', 'in', 'its', 'effects', 'upon', 'the', 'peace', ',', 'order', ',', 'prosperity', ',', 'and', 'happiness', 'of', 'the'], query='nation', right=['I', 'have', 'acquired', 'an', 'habitual', 'attachment', 'to', 'it', 'and', 'veneration', 'for', 'it', '.', 'What', 'other', 'form', 'of', 'government'], offset=2558, left_print=', prosperity , and happiness of the', right_print='I have acquired an habitual attachm', line=', prosperity , and happiness of the nation I have acquired an habitual attachm'),\n",
       " ConcordanceLine(left=['this', 'is', 'very', 'certain', ',', 'that', 'to', 'a', 'benevolent', 'human', 'mind', 'there', 'can', 'be', 'no', 'spectacle', 'presented', 'by', 'any'], query='nation', right=['more', 'pleasing', ',', 'more', 'noble', ',', 'majestic', ',', 'or', 'august', ',', 'than', 'an', 'assembly', 'like', 'that', 'which', 'has'], offset=2638, left_print='an be no spectacle presented by any', right_print='more pleasing , more noble , majest', line='an be no spectacle presented by any nation more pleasing , more noble , majest'),\n",
       " ConcordanceLine(left=['corruption', ',', 'the', 'Government', 'may', 'be', 'the', 'choice', 'of', 'a', 'party', 'for', 'its', 'own', 'ends', ',', 'not', 'of', 'the'], query='nation', right=['for', 'the', 'national', 'good', '.', 'If', 'that', 'solitary', 'suffrage', 'can', 'be', 'obtained', 'by', 'foreign', 'nations', 'by', 'flattery', 'or'], offset=2983, left_print='party for its own ends , not of the', right_print='for the national good . If that sol', line='party for its own ends , not of the nation for the national good . If that sol'),\n",
       " ConcordanceLine(left=['his', 'successors', 'by', 'both', 'Houses', 'of', 'Congress', 'and', 'by', 'the', 'voice', 'of', 'the', 'legislatures', 'and', 'the', 'people', 'throughout', 'the'], query='nation', right=['.', 'On', 'this', 'subject', 'it', 'might', 'become', 'me', 'better', 'to', 'be', 'silent', 'or', 'to', 'speak', 'with', 'diffidence', ';'], offset=3325, left_print='tures and the people throughout the', right_print='. On this subject it might become m', line='tures and the people throughout the nation . On this subject it might become m'),\n",
       " ConcordanceLine(left=['public', 'opinion', ',', 'until', 'it', 'shall', 'be', 'otherwise', 'ordained', 'by', 'Congress', ';', 'if', 'a', 'personal', 'esteem', 'for', 'the', 'French'], query='nation', right=[',', 'formed', 'in', 'a', 'residence', 'of', 'seven', 'years', 'chiefly', 'among', 'them', ',', 'and', 'a', 'sincere', 'desire', 'to', 'preserve'], offset=3794, left_print='if a personal esteem for the French', right_print=', formed in a residence of seven ye', line='if a personal esteem for the French nation , formed in a residence of seven ye'),\n",
       " ConcordanceLine(left=['a', 'reparation', 'for', 'the', 'injuries', 'that', 'have', 'been', 'committed', 'on', 'the', 'commerce', 'of', 'our', 'fellow', '-', 'citizens', 'by', 'whatever'], query='nation', right=[',', 'and', 'if', 'success', 'can', 'not', 'be', 'obtained', ',', 'to', 'lay', 'the', 'facts', 'before', 'the', 'Legislature', ',', 'that'], offset=3899, left_print='f our fellow - citizens by whatever', right_print=', and if success can not be obtaine', line='f our fellow - citizens by whatever nation , and if success can not be obtaine'),\n",
       " ConcordanceLine(left=[',', 'and', 'the', 'Protector', 'in', 'all', 'ages', 'of', 'the', 'world', 'of', 'virtuous', 'liberty', ',', 'continue', 'His', 'blessing', 'upon', 'this'], query='nation', right=['and', 'its', 'Government', 'and', 'give', 'it', 'all', 'possible', 'success', 'and', 'duration', 'consistent', 'with', 'the', 'ends', 'of', 'His', 'providence'], offset=4250, left_print='y , continue His blessing upon this', right_print='and its Government and give it all ', line='y , continue His blessing upon this nation and its Government and give it all '),\n",
       " ConcordanceLine(left=['presentiments', 'which', 'the', 'greatness', 'of', 'the', 'charge', 'and', 'the', 'weakness', 'of', 'my', 'powers', 'so', 'justly', 'inspire', '.', 'A', 'rising'], query='nation', right=[',', 'spread', 'over', 'a', 'wide', 'and', 'fruitful', 'land', ',', 'traversing', 'all', 'the', 'seas', 'with', 'the', 'rich', 'productions', 'of'], offset=4368, left_print='powers so justly inspire . A rising', right_print=', spread over a wide and fruitful l', line='powers so justly inspire . A rising nation , spread over a wide and fruitful l'),\n",
       " ConcordanceLine(left=['to', 'speak', 'and', 'to', 'write', 'what', 'they', 'think', ';', 'but', 'this', 'being', 'now', 'decided', 'by', 'the', 'voice', 'of', 'the'], query='nation', right=[',', 'announced', 'according', 'to', 'the', 'rules', 'of', 'the', 'Constitution', ',', 'all', 'will', ',', 'of', 'course', ',', 'arrange', 'themselves'], offset=4622, left_print='ing now decided by the voice of the', right_print=', announced according to the rules ', line='ing now decided by the voice of the nation , announced according to the rules '),\n",
       " ConcordanceLine(left=['ever', 'be', 'found', 'inseparable', 'from', 'our', 'moral', 'duties', ',', 'and', 'history', 'bears', 'witness', 'to', 'the', 'fact', 'that', 'a', 'just'], query='nation', right=['is', 'trusted', 'on', 'its', 'word', 'when', 'recourse', 'is', 'had', 'to', 'armaments', 'and', 'wars', 'to', 'bridle', 'others', '.', 'At'], offset=6427, left_print='ars witness to the fact that a just', right_print='is trusted on its word when recours', line='ars witness to the fact that a just nation is trusted on its word when recours'),\n",
       " ConcordanceLine(left=['into', 'the', 'fold', 'of', 'their', 'country', ',', 'and', 'will', 'complete', 'that', 'entire', 'union', 'of', 'opinion', 'which', 'gives', 'to', 'a'], query='nation', right=['the', 'blessing', 'of', 'harmony', 'and', 'the', 'benefit', 'of', 'all', 'its', 'strength', '.', 'I', 'shall', 'now', 'enter', 'on', 'the'], offset=8338, left_print='e union of opinion which gives to a', right_print='the blessing of harmony and the ben', line='e union of opinion which gives to a nation the blessing of harmony and the ben'),\n",
       " ConcordanceLine(left=['So', 'distinguished', 'a', 'mark', 'of', 'confidence', ',', 'proceeding', 'from', 'the', 'deliberate', 'and', 'tranquil', 'suffrage', 'of', 'a', 'free', 'and', 'virtuous'], query='nation', right=[',', 'would', 'under', 'any', 'circumstances', 'have', 'commanded', 'my', 'gratitude', 'and', 'devotion', ',', 'as', 'well', 'as', 'filled', 'me', 'with'], offset=8662, left_print='uil suffrage of a free and virtuous', right_print=', would under any circumstances hav', line='uil suffrage of a free and virtuous nation , would under any circumstances hav'),\n",
       " ConcordanceLine(left=['can', 'not', 'be', 'anticipated', '.', 'Assuring', 'myself', 'that', 'under', 'every', 'vicissitude', 'the', 'determined', 'spirit', 'and', 'united', 'councils', 'of', 'the'], query='nation', right=['will', 'be', 'safeguards', 'to', 'its', 'honor', 'and', 'its', 'essential', 'interests', ',', 'I', 'repair', 'to', 'the', 'post', 'assigned', 'me'], offset=9134, left_print='d spirit and united councils of the', right_print='will be safeguards to its honor and', line='d spirit and united councils of the nation will be safeguards to its honor and'),\n",
       " ConcordanceLine(left=['of', 'an', 'enlightened', 'and', 'generous', 'people', ',', 'and', 'felt', 'less', 'deeply', 'a', 'conviction', 'that', 'the', 'war', 'with', 'a', 'powerful'], query='nation', right=[',', 'which', 'forms', 'so', 'prominent', 'a', 'feature', 'in', 'our', 'situation', ',', 'is', 'stamped', 'with', 'that', 'justice', 'which', 'invites'], offset=9993, left_print='iction that the war with a powerful', right_print=', which forms so prominent a featur', line='iction that the war with a powerful nation , which forms so prominent a featur'),\n",
       " ConcordanceLine(left=['discontinued', ';', 'nor', 'until', 'this', 'last', 'appeal', 'could', 'no', 'longer', 'be', 'delayed', 'without', 'breaking', 'down', 'the', 'spirit', 'of', 'the'], query='nation', right=[',', 'destroying', 'all', 'confidence', 'in', 'itself', 'and', 'in', 'its', 'political', 'institutions', ',', 'and', 'either', 'perpetuating', 'a', 'state', 'of'], offset=10117, left_print='out breaking down the spirit of the', right_print=', destroying all confidence in itse', line='out breaking down the spirit of the nation , destroying all confidence in itse'),\n",
       " ConcordanceLine(left=[',', 'and', 'have', 'been', 'received', 'in', 'a', 'spirit', 'forbidding', 'every', 'reliance', 'not', 'placed', 'on', 'the', 'military', 'resources', 'of', 'the'], query='nation', right=['.', 'These', 'resources', 'are', 'amply', 'sufficient', 'to', 'bring', 'the', 'war', 'to', 'an', 'honorable', 'issue', '.', 'Our', 'nation', 'is'], offset=10838, left_print='ed on the military resources of the', right_print='. These resources are amply suffici', line='ed on the military resources of the nation . These resources are amply suffici'),\n",
       " ConcordanceLine(left=['of', 'the', 'nation', '.', 'These', 'resources', 'are', 'amply', 'sufficient', 'to', 'bring', 'the', 'war', 'to', 'an', 'honorable', 'issue', '.', 'Our'], query='nation', right=['is', 'in', 'number', 'more', 'than', 'half', 'that', 'of', 'the', 'British', 'Isles', '.', 'It', 'is', 'composed', 'of', 'a', 'brave'], offset=10855, left_print='the war to an honorable issue . Our', right_print='is in number more than half that of', line='the war to an honorable issue . Our nation is in number more than half that of'),\n",
       " ConcordanceLine(left=['very', 'extraordinary', 'events', 'the', 'United', 'States', 'have', 'flourished', 'beyond', 'example', '.', 'Their', 'citizens', 'individually', 'have', 'been', 'happy', 'and', 'the'], query='nation', right=['prosperous', '.', 'Under', 'this', 'Constitution', 'our', 'commerce', 'has', 'been', 'wisely', 'regulated', 'with', 'foreign', 'nations', 'and', 'between', 'the', 'States'], offset=11552, left_print='ndividually have been happy and the', right_print='prosperous . Under this Constitutio', line='ndividually have been happy and the nation prosperous . Under this Constitutio'),\n",
       " ConcordanceLine(left=['Government', 'which', 'protects', 'every', 'citizen', 'in', 'the', 'full', 'enjoyment', 'of', 'his', 'rights', ',', 'and', 'is', 'able', 'to', 'protect', 'the'], query='nation', right=['against', 'injustice', 'from', 'foreign', 'powers', '.', 'Other', 'considerations', 'of', 'the', 'highest', 'importance', 'admonish', 'us', 'to', 'cherish', 'our', 'Union'], offset=12063, left_print='rights , and is able to protect the', right_print='against injustice from foreign powe', line='rights , and is able to protect the nation against injustice from foreign powe'),\n",
       " ConcordanceLine(left=['part', 'of', 'our', 'Union', 'that', 'is', 'not', 'particularly', 'interested', 'in', 'preserving', 'it', '.', 'The', 'great', 'agricultural', 'interest', 'of', 'the'], query='nation', right=['prospers', 'under', 'its', 'protection', '.', 'Local', 'interests', 'are', 'not', 'less', 'fostered', 'by', 'it', '.', 'Our', 'fellow', '-', 'citizens'], offset=12258, left_print=' great agricultural interest of the', right_print='prospers under its protection . Loc', line=' great agricultural interest of the nation prospers under its protection . Loc'),\n",
       " ConcordanceLine(left=['of', 'the', 'adverse', 'party', 'to', 'overset', 'our', 'Government', ',', 'to', 'break', 'our', 'Union', ',', 'and', 'demolish', 'us', 'as', 'a'], query='nation', right=['.', 'Our', 'distance', 'from', 'Europe', 'and', 'the', 'just', ',', 'moderate', ',', 'and', 'pacific', 'policy', 'of', 'our', 'Government', 'may'], offset=12755, left_print='ak our Union , and demolish us as a', right_print='. Our distance from Europe and the ', line='ak our Union , and demolish us as a nation . Our distance from Europe and the ')]"
      ]
     },
     "execution_count": 11,
     "metadata": {},
     "output_type": "execute_result"
    }
   ],
   "source": [
    "text4.concordance_list('nation')"
   ]
  },
  {
   "cell_type": "markdown",
   "id": "3f71855c-ebd0-48fc-a685-ffe7e45faa86",
   "metadata": {},
   "source": [
    "`similar`: Find similar words to a word"
   ]
  },
  {
   "cell_type": "code",
   "execution_count": 12,
   "id": "935998d7-e90f-4072-b45d-f4aaf6f95c56",
   "metadata": {},
   "outputs": [
    {
     "name": "stdout",
     "output_type": "stream",
     "text": [
      "country people government world union time constitution states\n",
      "republic land law earth other future party peace strength president\n",
      "way war\n"
     ]
    }
   ],
   "source": [
    "text4.similar('nation')"
   ]
  },
  {
   "cell_type": "markdown",
   "id": "d2c17568-3fd1-4101-82b0-cb7120fe3e26",
   "metadata": {},
   "source": [
    "`common_contexts`: find common contexts of two words"
   ]
  },
  {
   "cell_type": "code",
   "execution_count": 13,
   "id": "47ef6f01-90be-4cab-9e1d-ae3fd1f640ef",
   "metadata": {},
   "outputs": [
    {
     "name": "stdout",
     "output_type": "stream",
     "text": [
      "and_we and_the\n"
     ]
    }
   ],
   "source": [
    "text4.common_contexts(['this', 'nation'])"
   ]
  },
  {
   "cell_type": "markdown",
   "id": "0cc8e65c-389b-42bf-8fbe-f220e83eba0c",
   "metadata": {},
   "source": [
    "`dispersion`: Find the location where the word has appeared from the beginning of the text"
   ]
  },
  {
   "cell_type": "code",
   "execution_count": 16,
   "id": "1d793b41-6b4f-4c61-b10d-bd9eb057f1f0",
   "metadata": {},
   "outputs": [
    {
     "data": {
      "image/png": "[encoded data removed]",
      "text/plain": [
       "<Figure size 432x288 with 1 Axes>"
      ]
     },
     "metadata": {
      "needs_background": "light"
     },
     "output_type": "display_data"
    }
   ],
   "source": [
    "text4.dispersion_plot(['citizens', 'democracy', 'freedom', 'duties', 'America', 'liberty'])"
   ]
  },
  {
   "cell_type": "markdown",
   "id": "77797de3-7a13-46c3-9869-9035701a4db4",
   "metadata": {},
   "source": [
    "`generate`: Generate text based on some other text"
   ]
  },
  {
   "cell_type": "code",
   "execution_count": 17,
   "id": "905060ab-5af8-4251-9f03-448478c09b32",
   "metadata": {},
   "outputs": [
    {
     "name": "stderr",
     "output_type": "stream",
     "text": [
      "Building ngram index...\n"
     ]
    },
    {
     "name": "stdout",
     "output_type": "stream",
     "text": [
      "obligations , and especially the truth that democratic government has\n",
      "innate capacity to govern its affairs aright through the Province\n",
      "ceded , by any timid forebodings of evil were not to overtake them\n",
      "while I possess the property of the pecuniary estimates for the\n",
      "advancement of civilization . , religion and a reckless disregard of\n",
      "the Argonne , Omaha Beach , Salerno and halfway around the globe , and\n",
      "nothing is more important in the House and the special attention of\n",
      "the Government to interfere with the advice and equipment to free ones\n",
      "; to the public agents intrusted with\n"
     ]
    },
    {
     "data": {
      "text/plain": [
       "'obligations , and especially the truth that democratic government has\\ninnate capacity to govern its affairs aright through the Province\\nceded , by any timid forebodings of evil were not to overtake them\\nwhile I possess the property of the pecuniary estimates for the\\nadvancement of civilization . , religion and a reckless disregard of\\nthe Argonne , Omaha Beach , Salerno and halfway around the globe , and\\nnothing is more important in the House and the special attention of\\nthe Government to interfere with the advice and equipment to free ones\\n; to the public agents intrusted with'"
      ]
     },
     "execution_count": 17,
     "metadata": {},
     "output_type": "execute_result"
    }
   ],
   "source": [
    "text4.generate()"
   ]
  },
  {
   "cell_type": "code",
   "execution_count": 18,
   "id": "f978cec7-399b-446e-8014-75c1def40553",
   "metadata": {},
   "outputs": [
    {
     "name": "stderr",
     "output_type": "stream",
     "text": [
      "Building ngram index...\n"
     ]
    },
    {
     "name": "stdout",
     "output_type": "stream",
     "text": [
      "heya U13 cripos . ,,,, i have never used elbows im standin where ?\n",
      "U122 JOIN I 'm getting him banned ty U36 wow mercy mercy me .... lol\n",
      "and I will end up together :-( not that I was U31 You called me Amy ?\n",
      ":) PART . the heck is that a roaring column of flame streaks out of\n",
      "uniform . JOIN PART PART NICK : U27 but that would be U41 but my table\n",
      "too dam low Heyy U103 28 m hawaii here if n e hott rocker girls wana\n",
      "chat pm me Watching = An hour\n"
     ]
    },
    {
     "data": {
      "text/plain": [
       "\"heya U13 cripos . ,,,, i have never used elbows im standin where ?\\nU122 JOIN I 'm getting him banned ty U36 wow mercy mercy me .... lol\\nand I will end up together :-( not that I was U31 You called me Amy ?\\n:) PART . the heck is that a roaring column of flame streaks out of\\nuniform . JOIN PART PART NICK : U27 but that would be U41 but my table\\ntoo dam low Heyy U103 28 m hawaii here if n e hott rocker girls wana\\nchat pm me Watching = An hour\""
      ]
     },
     "execution_count": 18,
     "metadata": {},
     "output_type": "execute_result"
    }
   ],
   "source": [
    "text5.generate()"
   ]
  },
  {
   "cell_type": "markdown",
   "id": "e7567767-b8da-4df4-bd71-efaaebc82b18",
   "metadata": {},
   "source": [
    "### Counting Vocabulary\n",
    "\n",
    "Count the occurances of an word in a text corpus"
   ]
  },
  {
   "cell_type": "code",
   "execution_count": 20,
   "id": "89779e0d-7c7a-4798-bcfa-575a0f583cc3",
   "metadata": {},
   "outputs": [
    {
     "data": {
      "text/plain": [
       "152901"
      ]
     },
     "execution_count": 20,
     "metadata": {},
     "output_type": "execute_result"
    }
   ],
   "source": [
    "len(text4) # find the number of tokens, the words as well as the punctuations"
   ]
  },
  {
   "cell_type": "code",
   "execution_count": 26,
   "id": "e1387d52-61db-4722-91f7-1578288e2cd0",
   "metadata": {},
   "outputs": [
    {
     "data": {
      "text/plain": [
       "10025"
      ]
     },
     "execution_count": 26,
     "metadata": {},
     "output_type": "execute_result"
    }
   ],
   "source": [
    "len(sorted(set(text4))) # unique words including punctuations, numbers and symbols"
   ]
  },
  {
   "cell_type": "code",
   "execution_count": 27,
   "id": "fc82709b-c633-4547-bcc3-89b7e266a180",
   "metadata": {},
   "outputs": [
    {
     "data": {
      "text/plain": [
       "15.251970074812968"
      ]
     },
     "execution_count": 27,
     "metadata": {},
     "output_type": "execute_result"
    }
   ],
   "source": [
    "len(text4) / len(sorted(set(text4))) # lexical richness of text, find average times a word has been used"
   ]
  },
  {
   "cell_type": "code",
   "execution_count": 28,
   "id": "2b16b6cf-d0cd-44b5-8d3b-c01ebaa580f3",
   "metadata": {},
   "outputs": [
    {
     "data": {
      "text/plain": [
       "589"
      ]
     },
     "execution_count": 28,
     "metadata": {},
     "output_type": "execute_result"
    }
   ],
   "source": [
    "text4.count('people') # count the number of times a word has been used"
   ]
  },
  {
   "cell_type": "code",
   "execution_count": 29,
   "id": "8cd2afe0-957d-4098-af56-3d45139eff37",
   "metadata": {},
   "outputs": [
    {
     "data": {
      "text/plain": [
       "2229"
      ]
     },
     "execution_count": 29,
     "metadata": {},
     "output_type": "execute_result"
    }
   ],
   "source": [
    "text4.count('a')"
   ]
  },
  {
   "cell_type": "code",
   "execution_count": 30,
   "id": "c3ee5697-460e-4c5b-85b9-3470b2aee4fe",
   "metadata": {},
   "outputs": [],
   "source": [
    "def lexical_diversity_percentage(word, text):\n",
    "    word_count = text.count(word)\n",
    "    return 100 * (word_count / len(text))"
   ]
  },
  {
   "cell_type": "code",
   "execution_count": 31,
   "id": "efd9e284-f74c-4247-ab11-0e18ec331cc8",
   "metadata": {},
   "outputs": [
    {
     "data": {
      "text/plain": [
       "0.38521657804723314"
      ]
     },
     "execution_count": 31,
     "metadata": {},
     "output_type": "execute_result"
    }
   ],
   "source": [
    "lexical_diversity_percentage('people', text4)"
   ]
  },
  {
   "cell_type": "code",
   "execution_count": 32,
   "id": "4586d16a-9393-4abf-868a-f2e700f1a27b",
   "metadata": {},
   "outputs": [
    {
     "data": {
      "text/plain": [
       "1.457806031353621"
      ]
     },
     "execution_count": 32,
     "metadata": {},
     "output_type": "execute_result"
    }
   ],
   "source": [
    "lexical_diversity_percentage('a', text4)"
   ]
  },
  {
   "cell_type": "code",
   "execution_count": 33,
   "id": "a56087c6-093e-4876-8fdd-3d7c572e6d4c",
   "metadata": {},
   "outputs": [
    {
     "data": {
      "text/plain": [
       "6.2491416014283745"
      ]
     },
     "execution_count": 33,
     "metadata": {},
     "output_type": "execute_result"
    }
   ],
   "source": [
    "lexical_diversity_percentage('the', text4)"
   ]
  },
  {
   "cell_type": "code",
   "execution_count": 53,
   "id": "367c7449-0f0f-4058-9dc1-926f1cd5b287",
   "metadata": {},
   "outputs": [],
   "source": [
    "fdist4 = FreqDist(text4) # find frequency distribution of the words"
   ]
  },
  {
   "cell_type": "code",
   "execution_count": 47,
   "id": "7e0bd33a-74f5-4677-b2f5-c139c30c42a3",
   "metadata": {},
   "outputs": [],
   "source": [
    "vocab4 = fdist4.keys()"
   ]
  },
  {
   "cell_type": "code",
   "execution_count": 55,
   "id": "2cf90351-a8da-4e1d-a3e5-20e240423516",
   "metadata": {},
   "outputs": [
    {
     "data": {
      "image/png": "[encoded data removed]",
      "text/plain": [
       "<Figure size 432x288 with 1 Axes>"
      ]
     },
     "metadata": {
      "needs_background": "light"
     },
     "output_type": "display_data"
    },
    {
     "data": {
      "text/plain": [
       "<AxesSubplot:xlabel='Samples', ylabel='Cumulative Counts'>"
      ]
     },
     "execution_count": 55,
     "metadata": {},
     "output_type": "execute_result"
    }
   ],
   "source": [
    "fdist4.plot(50, cumulative=True) # plot the words in a graph cumalatively"
   ]
  },
  {
   "cell_type": "code",
   "execution_count": 56,
   "id": "5aeb7a69-4052-4284-91b4-bbc0632eb0cc",
   "metadata": {},
   "outputs": [
    {
     "data": {
      "text/plain": [
       "['notification',\n",
       " '14th',\n",
       " 'fondest',\n",
       " 'predilection',\n",
       " 'flattering',\n",
       " 'asylum',\n",
       " 'interruptions',\n",
       " 'awaken',\n",
       " 'distrustful',\n",
       " 'despondence']"
      ]
     },
     "execution_count": 56,
     "metadata": {},
     "output_type": "execute_result"
    }
   ],
   "source": [
    "fdist4.hapaxes()[0:10] # find not so frequent words"
   ]
  },
  {
   "cell_type": "code",
   "execution_count": 57,
   "id": "f12cdefb-a5d1-4c7b-ab75-9664a6e57793",
   "metadata": {},
   "outputs": [],
   "source": [
    "text4_words = set(text4)"
   ]
  },
  {
   "cell_type": "code",
   "execution_count": 61,
   "id": "a404e25b-0cf3-4279-9a34-bfaaa85887dd",
   "metadata": {},
   "outputs": [],
   "source": [
    "long_words4 = [w for w in text4_words if len(w) > 15] # find long words"
   ]
  },
  {
   "cell_type": "code",
   "execution_count": 62,
   "id": "138a2156-fbd0-4dfe-bd2a-d37df95c8720",
   "metadata": {},
   "outputs": [
    {
     "data": {
      "text/plain": [
       "['instrumentalities',\n",
       " 'misappropriation',\n",
       " 'irresponsibility',\n",
       " 'constitutionally',\n",
       " 'enthusiastically',\n",
       " 'antiphilosophists',\n",
       " 'transcontinental',\n",
       " 'responsibilities',\n",
       " 'discountenancing',\n",
       " 'misunderstanding',\n",
       " 'contradistinction',\n",
       " 'unconstitutional',\n",
       " 'uncharitableness',\n",
       " 'disqualification',\n",
       " 'RESPONSIBILITIES',\n",
       " 'sentimentalizing',\n",
       " 'internationality',\n",
       " 'misrepresentation']"
      ]
     },
     "execution_count": 62,
     "metadata": {},
     "output_type": "execute_result"
    }
   ],
   "source": [
    "long_words4"
   ]
  },
  {
   "cell_type": "code",
   "execution_count": 63,
   "id": "dceda77d-4420-4117-9860-1864d5985137",
   "metadata": {},
   "outputs": [],
   "source": [
    "not_short_long_words = [w for w in text4_words if len(w) > 7 and len(w) < 15] # find not short and not long words"
   ]
  },
  {
   "cell_type": "code",
   "execution_count": 66,
   "id": "507f13c8-e383-48b7-a436-b1e1a68c0f9b",
   "metadata": {},
   "outputs": [
    {
     "data": {
      "text/plain": [
       "['AMENDMENT',\n",
       " 'Abandonment',\n",
       " 'Abhorring',\n",
       " 'Additional',\n",
       " 'Administered',\n",
       " 'Administration',\n",
       " 'Advancing',\n",
       " 'Afghanistan',\n",
       " 'Agriculture',\n",
       " 'Alleghanies',\n",
       " 'Almighty',\n",
       " 'Although',\n",
       " 'American',\n",
       " 'Americanism',\n",
       " 'Americans']"
      ]
     },
     "execution_count": 66,
     "metadata": {},
     "output_type": "execute_result"
    }
   ],
   "source": [
    "sorted(not_short_long_words)[0:15]"
   ]
  },
  {
   "cell_type": "code",
   "execution_count": 67,
   "id": "11ba298b-62f6-43ef-8ac0-67ffc94f6e8e",
   "metadata": {},
   "outputs": [
    {
     "name": "stdout",
     "output_type": "stream",
     "text": [
      "United States; fellow citizens; years ago; four years; Federal\n",
      "Government; General Government; American people; Vice President; God\n",
      "bless; Chief Justice; one another; fellow Americans; Old World;\n",
      "Almighty God; Fellow citizens; Chief Magistrate; every citizen; Indian\n",
      "tribes; public debt; foreign nations\n"
     ]
    }
   ],
   "source": [
    "text4.collocations() # find collocations"
   ]
  },
  {
   "cell_type": "code",
   "execution_count": 68,
   "id": "d114bf41-3ecb-4516-957b-f64d3f098ae0",
   "metadata": {},
   "outputs": [],
   "source": [
    "word_lens = [len(w) for w in text4]"
   ]
  },
  {
   "cell_type": "code",
   "execution_count": 76,
   "id": "abedd0ee-94cd-4e5c-b84f-19daf7ef4242",
   "metadata": {},
   "outputs": [
    {
     "data": {
      "text/plain": [
       "dict_items([(6, 11069), (1, 17410), (8, 7474), (2, 28300), (3, 29826), (5, 13565), (15, 79), (12, 1436), (4, 19238), (7, 10322), (9, 5798), (11, 2482), (10, 4812), (13, 626), (14, 403), (17, 10), (16, 51)])"
      ]
     },
     "execution_count": 76,
     "metadata": {},
     "output_type": "execute_result"
    }
   ],
   "source": [
    "FreqDist(word_lens).items()"
   ]
  },
  {
   "cell_type": "code",
   "execution_count": null,
   "id": "c6f3e90f-82ef-4e54-a844-b246e5418708",
   "metadata": {},
   "outputs": [],
   "source": []
  }
 ],
 "metadata": {
  "kernelspec": {
   "display_name": "Python 3 (ipykernel)",
   "language": "python",
   "name": "python3"
  },
  "language_info": {
   "codemirror_mode": {
    "name": "ipython",
    "version": 3
   },
   "file_extension": ".py",
   "mimetype": "text/x-python",
   "name": "python",
   "nbconvert_exporter": "python",
   "pygments_lexer": "ipython3",
   "version": "3.8.15"
  }
 },
 "nbformat": 4,
 "nbformat_minor": 5
}

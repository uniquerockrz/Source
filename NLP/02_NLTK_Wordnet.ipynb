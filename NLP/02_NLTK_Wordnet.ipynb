{
 "cells": [
  {
   "cell_type": "code",
   "execution_count": 1,
   "metadata": {},
   "outputs": [],
   "source": [
    "from nltk.corpus import wordnet as wn"
   ]
  },
  {
   "cell_type": "markdown",
   "metadata": {},
   "source": [
    "### Find Synonyms"
   ]
  },
  {
   "cell_type": "code",
   "execution_count": 5,
   "metadata": {},
   "outputs": [
    {
     "name": "stdout",
     "output_type": "stream",
     "text": [
      "[Lemma('good.n.01.good')]\n",
      "[Lemma('good.n.02.good'), Lemma('good.n.02.goodness')]\n",
      "[Lemma('good.n.03.good'), Lemma('good.n.03.goodness')]\n",
      "[Lemma('commodity.n.01.commodity'), Lemma('commodity.n.01.trade_good'), Lemma('commodity.n.01.good')]\n",
      "[Lemma('good.a.01.good')]\n",
      "[Lemma('full.s.06.full'), Lemma('full.s.06.good')]\n",
      "[Lemma('good.a.03.good')]\n",
      "[Lemma('estimable.s.02.estimable'), Lemma('estimable.s.02.good'), Lemma('estimable.s.02.honorable'), Lemma('estimable.s.02.respectable')]\n",
      "[Lemma('beneficial.s.01.beneficial'), Lemma('beneficial.s.01.good')]\n",
      "[Lemma('good.s.06.good')]\n",
      "[Lemma('good.s.07.good'), Lemma('good.s.07.just'), Lemma('good.s.07.upright')]\n",
      "[Lemma('adept.s.01.adept'), Lemma('adept.s.01.expert'), Lemma('adept.s.01.good'), Lemma('adept.s.01.practiced'), Lemma('adept.s.01.proficient'), Lemma('adept.s.01.skillful'), Lemma('adept.s.01.skilful')]\n",
      "[Lemma('good.s.09.good')]\n",
      "[Lemma('dear.s.02.dear'), Lemma('dear.s.02.good'), Lemma('dear.s.02.near')]\n",
      "[Lemma('dependable.s.04.dependable'), Lemma('dependable.s.04.good'), Lemma('dependable.s.04.safe'), Lemma('dependable.s.04.secure')]\n",
      "[Lemma('good.s.12.good'), Lemma('good.s.12.right'), Lemma('good.s.12.ripe')]\n",
      "[Lemma('good.s.13.good'), Lemma('good.s.13.well')]\n",
      "[Lemma('effective.s.04.effective'), Lemma('effective.s.04.good'), Lemma('effective.s.04.in_effect'), Lemma('effective.s.04.in_force')]\n",
      "[Lemma('good.s.15.good')]\n",
      "[Lemma('good.s.16.good'), Lemma('good.s.16.serious')]\n",
      "[Lemma('good.s.17.good'), Lemma('good.s.17.sound')]\n",
      "[Lemma('good.s.18.good'), Lemma('good.s.18.salutary')]\n",
      "[Lemma('good.s.19.good'), Lemma('good.s.19.honest')]\n",
      "[Lemma('good.s.20.good'), Lemma('good.s.20.undecomposed'), Lemma('good.s.20.unspoiled'), Lemma('good.s.20.unspoilt')]\n",
      "[Lemma('good.s.21.good')]\n",
      "[Lemma('well.r.01.well'), Lemma('well.r.01.good')]\n",
      "[Lemma('thoroughly.r.02.thoroughly'), Lemma('thoroughly.r.02.soundly'), Lemma('thoroughly.r.02.good')]\n"
     ]
    }
   ],
   "source": [
    "for synset in wn.synsets('good'):\n",
    "    print(synset.lemmas())"
   ]
  },
  {
   "cell_type": "code",
   "execution_count": 7,
   "metadata": {},
   "outputs": [
    {
     "name": "stdout",
     "output_type": "stream",
     "text": [
      "[]\n",
      "[Synset('light.n.01')]\n",
      "[Synset('important_person.n.01')]\n",
      "[Synset('star.n.01')]\n",
      "[Synset('rest_day.n.01')]\n",
      "[Synset('lie.v.02')]\n",
      "[Synset('expose.v.01')]\n"
     ]
    }
   ],
   "source": [
    "for synset in wn.synsets('sun'):\n",
    "    print(synset.hypernyms())"
   ]
  },
  {
   "cell_type": "code",
   "execution_count": null,
   "metadata": {},
   "outputs": [],
   "source": []
  }
 ],
 "metadata": {
  "kernelspec": {
   "display_name": ".venv",
   "language": "python",
   "name": "python3"
  },
  "language_info": {
   "codemirror_mode": {
    "name": "ipython",
    "version": 3
   },
   "file_extension": ".py",
   "mimetype": "text/x-python",
   "name": "python",
   "nbconvert_exporter": "python",
   "pygments_lexer": "ipython3",
   "version": "3.11.4"
  },
  "orig_nbformat": 4
 },
 "nbformat": 4,
 "nbformat_minor": 2
}

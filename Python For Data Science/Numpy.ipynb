{
 "cells": [
  {
   "cell_type": "code",
   "execution_count": 1,
   "id": "23e8b22d-55cb-4866-adc4-723b330be552",
   "metadata": {},
   "outputs": [],
   "source": [
    "import numpy as np"
   ]
  },
  {
   "cell_type": "markdown",
   "id": "db17c7a7-dd00-4d47-89b5-2784dd3d6a5c",
   "metadata": {},
   "source": [
    "#### Vector Rows"
   ]
  },
  {
   "cell_type": "code",
   "execution_count": 2,
   "id": "1717ba7f-77d4-4abd-a9ae-785b8637e3f3",
   "metadata": {},
   "outputs": [],
   "source": [
    "vector_row = np.array([1, 2, 3])"
   ]
  },
  {
   "cell_type": "code",
   "execution_count": 3,
   "id": "31e248bf-887c-4460-bee2-5890146bce8b",
   "metadata": {},
   "outputs": [
    {
     "data": {
      "text/plain": [
       "array([1, 2, 3])"
      ]
     },
     "execution_count": 3,
     "metadata": {},
     "output_type": "execute_result"
    }
   ],
   "source": [
    "vector_row"
   ]
  },
  {
   "cell_type": "markdown",
   "id": "97734b4c-6444-4aac-8753-6822076c3344",
   "metadata": {},
   "source": [
    "#### Vector Columns"
   ]
  },
  {
   "cell_type": "code",
   "execution_count": 4,
   "id": "d9d96354-6c23-495f-ab0e-bbf8f0fbae12",
   "metadata": {},
   "outputs": [],
   "source": [
    "vector_col = np.array([\n",
    "    [1],\n",
    "    [2],\n",
    "    [3]\n",
    "])"
   ]
  },
  {
   "cell_type": "code",
   "execution_count": 5,
   "id": "e85cd12f-61cf-4138-9219-44f93d801242",
   "metadata": {},
   "outputs": [
    {
     "data": {
      "text/plain": [
       "array([[1],\n",
       "       [2],\n",
       "       [3]])"
      ]
     },
     "execution_count": 5,
     "metadata": {},
     "output_type": "execute_result"
    }
   ],
   "source": [
    "vector_col"
   ]
  },
  {
   "cell_type": "markdown",
   "id": "7f01b98d-5154-4ad9-969b-df374cd0438b",
   "metadata": {},
   "source": [
    "#### Matrices"
   ]
  },
  {
   "cell_type": "code",
   "execution_count": 6,
   "id": "57091303-a28e-4457-af2e-60b2db161ec3",
   "metadata": {},
   "outputs": [],
   "source": [
    "matrix = np.array([\n",
    "    [1, 2],\n",
    "    [3, 4],\n",
    "    [5, 6]\n",
    "])"
   ]
  },
  {
   "cell_type": "code",
   "execution_count": 7,
   "id": "0ec95cc3-5566-4f22-b900-9fe79aed9d34",
   "metadata": {},
   "outputs": [
    {
     "data": {
      "text/plain": [
       "array([[1, 2],\n",
       "       [3, 4],\n",
       "       [5, 6]])"
      ]
     },
     "execution_count": 7,
     "metadata": {},
     "output_type": "execute_result"
    }
   ],
   "source": [
    "matrix"
   ]
  },
  {
   "cell_type": "markdown",
   "id": "fbc59100-9959-453b-a3f2-6e4d4af55bf6",
   "metadata": {},
   "source": [
    "#### Sparse Matrix"
   ]
  },
  {
   "cell_type": "code",
   "execution_count": 8,
   "id": "bf852cfc-03d9-4d08-9c13-a22fa7c6235d",
   "metadata": {},
   "outputs": [],
   "source": [
    "from scipy import sparse"
   ]
  },
  {
   "cell_type": "code",
   "execution_count": 15,
   "id": "403fed56-8f0d-4b26-a17a-679b5ae5f524",
   "metadata": {},
   "outputs": [],
   "source": [
    "matrix = np.array([\n",
    "    [0, 0, 0],\n",
    "    [1, 0, 1],\n",
    "    [0, 0, 3]\n",
    "])"
   ]
  },
  {
   "cell_type": "code",
   "execution_count": 16,
   "id": "1cb0a47b-cb7f-4fc2-a698-1bc8b46ff844",
   "metadata": {},
   "outputs": [],
   "source": [
    "matrix_sparse = sparse.csr_matrix(matrix)"
   ]
  },
  {
   "cell_type": "code",
   "execution_count": 17,
   "id": "fa83cf81-51f8-4595-b614-ec52177e6093",
   "metadata": {},
   "outputs": [
    {
     "name": "stdout",
     "output_type": "stream",
     "text": [
      "  (1, 0)\t1\n",
      "  (1, 2)\t1\n",
      "  (2, 2)\t3\n"
     ]
    }
   ],
   "source": [
    "print(matrix_sparse)"
   ]
  },
  {
   "cell_type": "code",
   "execution_count": null,
   "id": "4ce4fba4-b2dc-47fa-8e6e-d8f3f817ead6",
   "metadata": {},
   "outputs": [],
   "source": []
  }
 ],
 "metadata": {
  "kernelspec": {
   "display_name": "Python 3 (ipykernel)",
   "language": "python",
   "name": "python3"
  },
  "language_info": {
   "codemirror_mode": {
    "name": "ipython",
    "version": 3
   },
   "file_extension": ".py",
   "mimetype": "text/x-python",
   "name": "python",
   "nbconvert_exporter": "python",
   "pygments_lexer": "ipython3",
   "version": "3.10.9"
  }
 },
 "nbformat": 4,
 "nbformat_minor": 5
}

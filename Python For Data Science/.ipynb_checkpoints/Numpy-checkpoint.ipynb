{
 "cells": [
  {
   "cell_type": "code",
   "execution_count": 1,
   "id": "23e8b22d-55cb-4866-adc4-723b330be552",
   "metadata": {},
   "outputs": [],
   "source": [
    "import numpy as np"
   ]
  },
  {
   "cell_type": "code",
   "execution_count": 2,
   "id": "1717ba7f-77d4-4abd-a9ae-785b8637e3f3",
   "metadata": {},
   "outputs": [],
   "source": [
    "vector_row = np.array([1, 2, 3])"
   ]
  },
  {
   "cell_type": "code",
   "execution_count": 3,
   "id": "31e248bf-887c-4460-bee2-5890146bce8b",
   "metadata": {},
   "outputs": [
    {
     "data": {
      "text/plain": [
       "array([1, 2, 3])"
      ]
     },
     "execution_count": 3,
     "metadata": {},
     "output_type": "execute_result"
    }
   ],
   "source": [
    "vector_row"
   ]
  },
  {
   "cell_type": "code",
   "execution_count": 4,
   "id": "d9d96354-6c23-495f-ab0e-bbf8f0fbae12",
   "metadata": {},
   "outputs": [],
   "source": [
    "vector_col = np.array([\n",
    "    [1],\n",
    "    [2],\n",
    "    [3]\n",
    "])"
   ]
  },
  {
   "cell_type": "code",
   "execution_count": 5,
   "id": "e85cd12f-61cf-4138-9219-44f93d801242",
   "metadata": {},
   "outputs": [
    {
     "data": {
      "text/plain": [
       "array([[1],\n",
       "       [2],\n",
       "       [3]])"
      ]
     },
     "execution_count": 5,
     "metadata": {},
     "output_type": "execute_result"
    }
   ],
   "source": [
    "vector_col"
   ]
  },
  {
   "cell_type": "code",
   "execution_count": null,
   "id": "0012cb08-c77d-4c72-a6b5-28813b635901",
   "metadata": {},
   "outputs": [],
   "source": []
  }
 ],
 "metadata": {
  "kernelspec": {
   "display_name": "Python 3 (ipykernel)",
   "language": "python",
   "name": "python3"
  },
  "language_info": {
   "codemirror_mode": {
    "name": "ipython",
    "version": 3
   },
   "file_extension": ".py",
   "mimetype": "text/x-python",
   "name": "python",
   "nbconvert_exporter": "python",
   "pygments_lexer": "ipython3",
   "version": "3.10.9"
  }
 },
 "nbformat": 4,
 "nbformat_minor": 5
}

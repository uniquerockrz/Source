{
 "cells": [
  {
   "cell_type": "code",
   "execution_count": 61,
   "id": "c8047519-7fc2-438e-8194-3262123b4451",
   "metadata": {},
   "outputs": [],
   "source": [
    "import pandas as pd\n",
    "import seaborn as sns\n",
    "import matplotlib.pyplot as plt\n",
    "from sklearn.preprocessing import OrdinalEncoder\n",
    "import numpy as np"
   ]
  },
  {
   "cell_type": "markdown",
   "id": "424c01eb-b2d1-43ff-9712-c6660b8b774f",
   "metadata": {},
   "source": [
    "### Load The Dataset\n",
    "\n",
    "Lets load the dataset and see the features"
   ]
  },
  {
   "cell_type": "code",
   "execution_count": 2,
   "id": "cf7b3f83-cfde-4137-9d16-1a4d113ad4d3",
   "metadata": {},
   "outputs": [],
   "source": [
    "gems_df = pd.read_csv('data/train.csv')"
   ]
  },
  {
   "cell_type": "code",
   "execution_count": 4,
   "id": "0542df33-5569-48d4-891c-e70dddb85d3d",
   "metadata": {},
   "outputs": [
    {
     "data": {
      "text/html": [
       "<div>\n",
       "<style scoped>\n",
       "    .dataframe tbody tr th:only-of-type {\n",
       "        vertical-align: middle;\n",
       "    }\n",
       "\n",
       "    .dataframe tbody tr th {\n",
       "        vertical-align: top;\n",
       "    }\n",
       "\n",
       "    .dataframe thead th {\n",
       "        text-align: right;\n",
       "    }\n",
       "</style>\n",
       "<table border=\"1\" class=\"dataframe\">\n",
       "  <thead>\n",
       "    <tr style=\"text-align: right;\">\n",
       "      <th></th>\n",
       "      <th>id</th>\n",
       "      <th>carat</th>\n",
       "      <th>cut</th>\n",
       "      <th>color</th>\n",
       "      <th>clarity</th>\n",
       "      <th>depth</th>\n",
       "      <th>table</th>\n",
       "      <th>x</th>\n",
       "      <th>y</th>\n",
       "      <th>z</th>\n",
       "      <th>price</th>\n",
       "    </tr>\n",
       "  </thead>\n",
       "  <tbody>\n",
       "    <tr>\n",
       "      <th>0</th>\n",
       "      <td>0</td>\n",
       "      <td>1.52</td>\n",
       "      <td>Premium</td>\n",
       "      <td>F</td>\n",
       "      <td>VS2</td>\n",
       "      <td>62.2</td>\n",
       "      <td>58.0</td>\n",
       "      <td>7.27</td>\n",
       "      <td>7.33</td>\n",
       "      <td>4.55</td>\n",
       "      <td>13619</td>\n",
       "    </tr>\n",
       "    <tr>\n",
       "      <th>1</th>\n",
       "      <td>1</td>\n",
       "      <td>2.03</td>\n",
       "      <td>Very Good</td>\n",
       "      <td>J</td>\n",
       "      <td>SI2</td>\n",
       "      <td>62.0</td>\n",
       "      <td>58.0</td>\n",
       "      <td>8.06</td>\n",
       "      <td>8.12</td>\n",
       "      <td>5.05</td>\n",
       "      <td>13387</td>\n",
       "    </tr>\n",
       "    <tr>\n",
       "      <th>2</th>\n",
       "      <td>2</td>\n",
       "      <td>0.70</td>\n",
       "      <td>Ideal</td>\n",
       "      <td>G</td>\n",
       "      <td>VS1</td>\n",
       "      <td>61.2</td>\n",
       "      <td>57.0</td>\n",
       "      <td>5.69</td>\n",
       "      <td>5.73</td>\n",
       "      <td>3.50</td>\n",
       "      <td>2772</td>\n",
       "    </tr>\n",
       "    <tr>\n",
       "      <th>3</th>\n",
       "      <td>3</td>\n",
       "      <td>0.32</td>\n",
       "      <td>Ideal</td>\n",
       "      <td>G</td>\n",
       "      <td>VS1</td>\n",
       "      <td>61.6</td>\n",
       "      <td>56.0</td>\n",
       "      <td>4.38</td>\n",
       "      <td>4.41</td>\n",
       "      <td>2.71</td>\n",
       "      <td>666</td>\n",
       "    </tr>\n",
       "    <tr>\n",
       "      <th>4</th>\n",
       "      <td>4</td>\n",
       "      <td>1.70</td>\n",
       "      <td>Premium</td>\n",
       "      <td>G</td>\n",
       "      <td>VS2</td>\n",
       "      <td>62.6</td>\n",
       "      <td>59.0</td>\n",
       "      <td>7.65</td>\n",
       "      <td>7.61</td>\n",
       "      <td>4.77</td>\n",
       "      <td>14453</td>\n",
       "    </tr>\n",
       "    <tr>\n",
       "      <th>5</th>\n",
       "      <td>5</td>\n",
       "      <td>1.51</td>\n",
       "      <td>Very Good</td>\n",
       "      <td>J</td>\n",
       "      <td>SI1</td>\n",
       "      <td>62.8</td>\n",
       "      <td>58.0</td>\n",
       "      <td>7.34</td>\n",
       "      <td>7.29</td>\n",
       "      <td>4.59</td>\n",
       "      <td>7506</td>\n",
       "    </tr>\n",
       "    <tr>\n",
       "      <th>6</th>\n",
       "      <td>6</td>\n",
       "      <td>0.74</td>\n",
       "      <td>Ideal</td>\n",
       "      <td>E</td>\n",
       "      <td>VS2</td>\n",
       "      <td>61.8</td>\n",
       "      <td>57.0</td>\n",
       "      <td>5.76</td>\n",
       "      <td>5.79</td>\n",
       "      <td>3.57</td>\n",
       "      <td>3229</td>\n",
       "    </tr>\n",
       "    <tr>\n",
       "      <th>7</th>\n",
       "      <td>7</td>\n",
       "      <td>1.34</td>\n",
       "      <td>Premium</td>\n",
       "      <td>G</td>\n",
       "      <td>SI2</td>\n",
       "      <td>62.5</td>\n",
       "      <td>57.0</td>\n",
       "      <td>7.00</td>\n",
       "      <td>7.05</td>\n",
       "      <td>4.38</td>\n",
       "      <td>6224</td>\n",
       "    </tr>\n",
       "    <tr>\n",
       "      <th>8</th>\n",
       "      <td>8</td>\n",
       "      <td>0.30</td>\n",
       "      <td>Ideal</td>\n",
       "      <td>F</td>\n",
       "      <td>IF</td>\n",
       "      <td>62.0</td>\n",
       "      <td>56.0</td>\n",
       "      <td>4.35</td>\n",
       "      <td>4.37</td>\n",
       "      <td>2.70</td>\n",
       "      <td>886</td>\n",
       "    </tr>\n",
       "    <tr>\n",
       "      <th>9</th>\n",
       "      <td>9</td>\n",
       "      <td>0.30</td>\n",
       "      <td>Good</td>\n",
       "      <td>J</td>\n",
       "      <td>VS1</td>\n",
       "      <td>63.6</td>\n",
       "      <td>57.0</td>\n",
       "      <td>4.26</td>\n",
       "      <td>4.28</td>\n",
       "      <td>2.72</td>\n",
       "      <td>421</td>\n",
       "    </tr>\n",
       "  </tbody>\n",
       "</table>\n",
       "</div>"
      ],
      "text/plain": [
       "   id  carat        cut color clarity  depth  table     x     y     z  price\n",
       "0   0   1.52    Premium     F     VS2   62.2   58.0  7.27  7.33  4.55  13619\n",
       "1   1   2.03  Very Good     J     SI2   62.0   58.0  8.06  8.12  5.05  13387\n",
       "2   2   0.70      Ideal     G     VS1   61.2   57.0  5.69  5.73  3.50   2772\n",
       "3   3   0.32      Ideal     G     VS1   61.6   56.0  4.38  4.41  2.71    666\n",
       "4   4   1.70    Premium     G     VS2   62.6   59.0  7.65  7.61  4.77  14453\n",
       "5   5   1.51  Very Good     J     SI1   62.8   58.0  7.34  7.29  4.59   7506\n",
       "6   6   0.74      Ideal     E     VS2   61.8   57.0  5.76  5.79  3.57   3229\n",
       "7   7   1.34    Premium     G     SI2   62.5   57.0  7.00  7.05  4.38   6224\n",
       "8   8   0.30      Ideal     F      IF   62.0   56.0  4.35  4.37  2.70    886\n",
       "9   9   0.30       Good     J     VS1   63.6   57.0  4.26  4.28  2.72    421"
      ]
     },
     "execution_count": 4,
     "metadata": {},
     "output_type": "execute_result"
    }
   ],
   "source": [
    "gems_df.head(10)"
   ]
  },
  {
   "cell_type": "code",
   "execution_count": 5,
   "id": "74311691-7ea6-4746-b10e-abc044e97025",
   "metadata": {},
   "outputs": [
    {
     "name": "stdout",
     "output_type": "stream",
     "text": [
      "<class 'pandas.core.frame.DataFrame'>\n",
      "RangeIndex: 193573 entries, 0 to 193572\n",
      "Data columns (total 11 columns):\n",
      " #   Column   Non-Null Count   Dtype  \n",
      "---  ------   --------------   -----  \n",
      " 0   id       193573 non-null  int64  \n",
      " 1   carat    193573 non-null  float64\n",
      " 2   cut      193573 non-null  object \n",
      " 3   color    193573 non-null  object \n",
      " 4   clarity  193573 non-null  object \n",
      " 5   depth    193573 non-null  float64\n",
      " 6   table    193573 non-null  float64\n",
      " 7   x        193573 non-null  float64\n",
      " 8   y        193573 non-null  float64\n",
      " 9   z        193573 non-null  float64\n",
      " 10  price    193573 non-null  int64  \n",
      "dtypes: float64(6), int64(2), object(3)\n",
      "memory usage: 16.2+ MB\n"
     ]
    }
   ],
   "source": [
    "gems_df.info()"
   ]
  },
  {
   "cell_type": "markdown",
   "id": "e0ea1228-025a-4211-8cb5-d4e6e9ace0fc",
   "metadata": {},
   "source": [
    "There seems to be no null values, which is great\n",
    "\n",
    "### Some Basic EDA\n",
    "\n",
    "Let's do some basic EDA of the features\n",
    "\n",
    "#### Cut"
   ]
  },
  {
   "cell_type": "code",
   "execution_count": 7,
   "id": "d5eee69a-bfc6-4228-88ad-c7145e4df4ad",
   "metadata": {},
   "outputs": [
    {
     "data": {
      "text/plain": [
       "Ideal        92454\n",
       "Premium      49910\n",
       "Very Good    37566\n",
       "Good         11622\n",
       "Fair          2021\n",
       "Name: cut, dtype: int64"
      ]
     },
     "execution_count": 7,
     "metadata": {},
     "output_type": "execute_result"
    }
   ],
   "source": [
    "gems_df['cut'].value_counts()"
   ]
  },
  {
   "cell_type": "markdown",
   "id": "e7ed6285-fa19-4099-ad25-70e1b262ce22",
   "metadata": {},
   "source": [
    "We can stratify the data into train and test sets using this cut parameter"
   ]
  },
  {
   "cell_type": "code",
   "execution_count": 9,
   "id": "a8d60f48-f996-42d8-98eb-80d24b382c8f",
   "metadata": {},
   "outputs": [
    {
     "data": {
      "text/plain": [
       "<Axes: xlabel='cut', ylabel='price'>"
      ]
     },
     "execution_count": 9,
     "metadata": {},
     "output_type": "execute_result"
    },
    {
     "data": {
      "image/png": "[encoded data removed]",
      "text/plain": [
       "<Figure size 640x480 with 1 Axes>"
      ]
     },
     "metadata": {},
     "output_type": "display_data"
    }
   ],
   "source": [
    "sns.boxplot(gems_df, x='cut', y='price')"
   ]
  },
  {
   "cell_type": "markdown",
   "id": "73d71d56-d03c-4039-b080-4e8669380566",
   "metadata": {},
   "source": [
    "Lets find the mean price in each of the cuts"
   ]
  },
  {
   "cell_type": "code",
   "execution_count": 94,
   "id": "8dbb0f79-d6ea-486b-8535-69be4bad5729",
   "metadata": {},
   "outputs": [
    {
     "name": "stdout",
     "output_type": "stream",
     "text": [
      "Mean price in Fair: 4811\n",
      "Median price in Fair: 3669\n",
      "Mean price in Good: 4191\n",
      "Median price in Good: 3592\n",
      "Mean price in Ideal: 3396\n",
      "Median price in Ideal: 1752\n",
      "Mean price in Premium: 4797\n",
      "Median price in Premium: 3742\n",
      "Mean price in Very Good: 4165\n",
      "Median price in Very Good: 2903\n",
      "[('Ideal', 3396.1869686546825), ('Very Good', 4165.304344353937), ('Good', 4191.474100843228), ('Premium', 4797.056481667), ('Fair', 4810.503216229589)]\n"
     ]
    }
   ],
   "source": [
    "mean_prices_cut = []\n",
    "median_prices_cut = []\n",
    "mean_prices_cut_dict = {}\n",
    "\n",
    "for group_name, group_df in gems_df.groupby('cut'):\n",
    "    print('Mean price in {}: {}'.format(group_name, str(round(group_df['price'].mean()))))\n",
    "    mean_prices_cut.append(group_df['price'].mean())\n",
    "    \n",
    "    mean_prices_cut_dict[group_name] = group_df['price'].mean()\n",
    "    \n",
    "    print('Median price in {}: {}'.format(group_name, str(round(group_df['price'].median()))))\n",
    "    median_prices_cut.append(group_df['price'].median())\n",
    "    \n",
    "print(sorted(mean_prices_cut_dict.items(), key=lambda cut_obj: cut_obj[1]))"
   ]
  },
  {
   "cell_type": "code",
   "execution_count": 27,
   "id": "4e61d91b-7573-4ee9-a6c4-caa8c82dfc69",
   "metadata": {},
   "outputs": [
    {
     "data": {
      "text/plain": [
       "[<matplotlib.lines.Line2D at 0x7f0e6e04fc10>]"
      ]
     },
     "execution_count": 27,
     "metadata": {},
     "output_type": "execute_result"
    },
    {
     "data": {
      "image/png": "[encoded data removed]",
      "text/plain": [
       "<Figure size 640x480 with 1 Axes>"
      ]
     },
     "metadata": {},
     "output_type": "display_data"
    }
   ],
   "source": [
    "plt.plot(mean_prices_cut)\n",
    "plt.plot(median_prices_cut)"
   ]
  },
  {
   "cell_type": "code",
   "execution_count": 86,
   "id": "1c6186b4-8483-4677-bb5f-6ca7ac657d32",
   "metadata": {},
   "outputs": [],
   "source": [
    "ordinal_encoder_cut = OrdinalEncoder(categories=[['Ideal', 'Very Good', 'Good', 'Premium', 'Fair']])"
   ]
  },
  {
   "cell_type": "code",
   "execution_count": 87,
   "id": "700e6ae1-9925-4be4-adec-11ddbd95fb27",
   "metadata": {},
   "outputs": [],
   "source": [
    "cut_ordinal_encoded = ordinal_encoder_cut.fit_transform(gems_df[['cut']])"
   ]
  },
  {
   "cell_type": "code",
   "execution_count": 88,
   "id": "88e7685c-325e-47ce-ad22-4b7b58f31319",
   "metadata": {},
   "outputs": [],
   "source": [
    "gems_df['cut_ordinal_encoded'] = cut_ordinal_encoded.reshape(1, -1)[0]"
   ]
  },
  {
   "cell_type": "code",
   "execution_count": 89,
   "id": "2f35a0a9-f380-4cea-80d5-35003206ebd8",
   "metadata": {},
   "outputs": [
    {
     "data": {
      "text/html": [
       "<div>\n",
       "<style scoped>\n",
       "    .dataframe tbody tr th:only-of-type {\n",
       "        vertical-align: middle;\n",
       "    }\n",
       "\n",
       "    .dataframe tbody tr th {\n",
       "        vertical-align: top;\n",
       "    }\n",
       "\n",
       "    .dataframe thead th {\n",
       "        text-align: right;\n",
       "    }\n",
       "</style>\n",
       "<table border=\"1\" class=\"dataframe\">\n",
       "  <thead>\n",
       "    <tr style=\"text-align: right;\">\n",
       "      <th></th>\n",
       "      <th>id</th>\n",
       "      <th>carat</th>\n",
       "      <th>cut</th>\n",
       "      <th>color</th>\n",
       "      <th>clarity</th>\n",
       "      <th>depth</th>\n",
       "      <th>table</th>\n",
       "      <th>x</th>\n",
       "      <th>y</th>\n",
       "      <th>z</th>\n",
       "      <th>price</th>\n",
       "      <th>cut_ordinal_encoded</th>\n",
       "    </tr>\n",
       "  </thead>\n",
       "  <tbody>\n",
       "    <tr>\n",
       "      <th>0</th>\n",
       "      <td>0</td>\n",
       "      <td>1.52</td>\n",
       "      <td>Premium</td>\n",
       "      <td>F</td>\n",
       "      <td>VS2</td>\n",
       "      <td>62.2</td>\n",
       "      <td>58.0</td>\n",
       "      <td>7.27</td>\n",
       "      <td>7.33</td>\n",
       "      <td>4.55</td>\n",
       "      <td>13619</td>\n",
       "      <td>3.0</td>\n",
       "    </tr>\n",
       "    <tr>\n",
       "      <th>1</th>\n",
       "      <td>1</td>\n",
       "      <td>2.03</td>\n",
       "      <td>Very Good</td>\n",
       "      <td>J</td>\n",
       "      <td>SI2</td>\n",
       "      <td>62.0</td>\n",
       "      <td>58.0</td>\n",
       "      <td>8.06</td>\n",
       "      <td>8.12</td>\n",
       "      <td>5.05</td>\n",
       "      <td>13387</td>\n",
       "      <td>1.0</td>\n",
       "    </tr>\n",
       "    <tr>\n",
       "      <th>2</th>\n",
       "      <td>2</td>\n",
       "      <td>0.70</td>\n",
       "      <td>Ideal</td>\n",
       "      <td>G</td>\n",
       "      <td>VS1</td>\n",
       "      <td>61.2</td>\n",
       "      <td>57.0</td>\n",
       "      <td>5.69</td>\n",
       "      <td>5.73</td>\n",
       "      <td>3.50</td>\n",
       "      <td>2772</td>\n",
       "      <td>0.0</td>\n",
       "    </tr>\n",
       "    <tr>\n",
       "      <th>3</th>\n",
       "      <td>3</td>\n",
       "      <td>0.32</td>\n",
       "      <td>Ideal</td>\n",
       "      <td>G</td>\n",
       "      <td>VS1</td>\n",
       "      <td>61.6</td>\n",
       "      <td>56.0</td>\n",
       "      <td>4.38</td>\n",
       "      <td>4.41</td>\n",
       "      <td>2.71</td>\n",
       "      <td>666</td>\n",
       "      <td>0.0</td>\n",
       "    </tr>\n",
       "    <tr>\n",
       "      <th>4</th>\n",
       "      <td>4</td>\n",
       "      <td>1.70</td>\n",
       "      <td>Premium</td>\n",
       "      <td>G</td>\n",
       "      <td>VS2</td>\n",
       "      <td>62.6</td>\n",
       "      <td>59.0</td>\n",
       "      <td>7.65</td>\n",
       "      <td>7.61</td>\n",
       "      <td>4.77</td>\n",
       "      <td>14453</td>\n",
       "      <td>3.0</td>\n",
       "    </tr>\n",
       "    <tr>\n",
       "      <th>5</th>\n",
       "      <td>5</td>\n",
       "      <td>1.51</td>\n",
       "      <td>Very Good</td>\n",
       "      <td>J</td>\n",
       "      <td>SI1</td>\n",
       "      <td>62.8</td>\n",
       "      <td>58.0</td>\n",
       "      <td>7.34</td>\n",
       "      <td>7.29</td>\n",
       "      <td>4.59</td>\n",
       "      <td>7506</td>\n",
       "      <td>1.0</td>\n",
       "    </tr>\n",
       "    <tr>\n",
       "      <th>6</th>\n",
       "      <td>6</td>\n",
       "      <td>0.74</td>\n",
       "      <td>Ideal</td>\n",
       "      <td>E</td>\n",
       "      <td>VS2</td>\n",
       "      <td>61.8</td>\n",
       "      <td>57.0</td>\n",
       "      <td>5.76</td>\n",
       "      <td>5.79</td>\n",
       "      <td>3.57</td>\n",
       "      <td>3229</td>\n",
       "      <td>0.0</td>\n",
       "    </tr>\n",
       "    <tr>\n",
       "      <th>7</th>\n",
       "      <td>7</td>\n",
       "      <td>1.34</td>\n",
       "      <td>Premium</td>\n",
       "      <td>G</td>\n",
       "      <td>SI2</td>\n",
       "      <td>62.5</td>\n",
       "      <td>57.0</td>\n",
       "      <td>7.00</td>\n",
       "      <td>7.05</td>\n",
       "      <td>4.38</td>\n",
       "      <td>6224</td>\n",
       "      <td>3.0</td>\n",
       "    </tr>\n",
       "    <tr>\n",
       "      <th>8</th>\n",
       "      <td>8</td>\n",
       "      <td>0.30</td>\n",
       "      <td>Ideal</td>\n",
       "      <td>F</td>\n",
       "      <td>IF</td>\n",
       "      <td>62.0</td>\n",
       "      <td>56.0</td>\n",
       "      <td>4.35</td>\n",
       "      <td>4.37</td>\n",
       "      <td>2.70</td>\n",
       "      <td>886</td>\n",
       "      <td>0.0</td>\n",
       "    </tr>\n",
       "    <tr>\n",
       "      <th>9</th>\n",
       "      <td>9</td>\n",
       "      <td>0.30</td>\n",
       "      <td>Good</td>\n",
       "      <td>J</td>\n",
       "      <td>VS1</td>\n",
       "      <td>63.6</td>\n",
       "      <td>57.0</td>\n",
       "      <td>4.26</td>\n",
       "      <td>4.28</td>\n",
       "      <td>2.72</td>\n",
       "      <td>421</td>\n",
       "      <td>2.0</td>\n",
       "    </tr>\n",
       "  </tbody>\n",
       "</table>\n",
       "</div>"
      ],
      "text/plain": [
       "   id  carat        cut color clarity  depth  table     x     y     z  price  \\\n",
       "0   0   1.52    Premium     F     VS2   62.2   58.0  7.27  7.33  4.55  13619   \n",
       "1   1   2.03  Very Good     J     SI2   62.0   58.0  8.06  8.12  5.05  13387   \n",
       "2   2   0.70      Ideal     G     VS1   61.2   57.0  5.69  5.73  3.50   2772   \n",
       "3   3   0.32      Ideal     G     VS1   61.6   56.0  4.38  4.41  2.71    666   \n",
       "4   4   1.70    Premium     G     VS2   62.6   59.0  7.65  7.61  4.77  14453   \n",
       "5   5   1.51  Very Good     J     SI1   62.8   58.0  7.34  7.29  4.59   7506   \n",
       "6   6   0.74      Ideal     E     VS2   61.8   57.0  5.76  5.79  3.57   3229   \n",
       "7   7   1.34    Premium     G     SI2   62.5   57.0  7.00  7.05  4.38   6224   \n",
       "8   8   0.30      Ideal     F      IF   62.0   56.0  4.35  4.37  2.70    886   \n",
       "9   9   0.30       Good     J     VS1   63.6   57.0  4.26  4.28  2.72    421   \n",
       "\n",
       "   cut_ordinal_encoded  \n",
       "0                  3.0  \n",
       "1                  1.0  \n",
       "2                  0.0  \n",
       "3                  0.0  \n",
       "4                  3.0  \n",
       "5                  1.0  \n",
       "6                  0.0  \n",
       "7                  3.0  \n",
       "8                  0.0  \n",
       "9                  2.0  "
      ]
     },
     "execution_count": 89,
     "metadata": {},
     "output_type": "execute_result"
    }
   ],
   "source": [
    "gems_df.head(10)"
   ]
  },
  {
   "cell_type": "code",
   "execution_count": 90,
   "id": "97c9a2d5-3c6a-438e-91c7-74eb05ec084c",
   "metadata": {},
   "outputs": [],
   "source": [
    "gems_df_corr = gems_df.select_dtypes(np.number).corr()"
   ]
  },
  {
   "cell_type": "code",
   "execution_count": 91,
   "id": "2b3b4a1d-d454-41b7-b89a-8be12822e109",
   "metadata": {},
   "outputs": [
    {
     "data": {
      "text/plain": [
       "id                    -0.001392\n",
       "carat                  0.943396\n",
       "depth                  0.001880\n",
       "table                  0.174915\n",
       "x                      0.901004\n",
       "y                      0.901033\n",
       "z                      0.893037\n",
       "price                  1.000000\n",
       "cut_ordinal_encoded    0.143015\n",
       "Name: price, dtype: float64"
      ]
     },
     "execution_count": 91,
     "metadata": {},
     "output_type": "execute_result"
    }
   ],
   "source": [
    "gems_df_corr['price']"
   ]
  },
  {
   "cell_type": "markdown",
   "id": "2229d4e3-7df9-4aa5-b633-3533b08b7f82",
   "metadata": {},
   "source": [
    "There seems to be a very weak correlation between cut and price"
   ]
  },
  {
   "cell_type": "markdown",
   "id": "5bbb10f2-459a-4df0-bfef-e02b17481453",
   "metadata": {},
   "source": [
    "#### Color"
   ]
  },
  {
   "cell_type": "code",
   "execution_count": 92,
   "id": "9cb5a6f4-0303-498d-a822-27e036d9119f",
   "metadata": {},
   "outputs": [
    {
     "data": {
      "text/plain": [
       "G    44391\n",
       "E    35869\n",
       "F    34258\n",
       "H    30799\n",
       "D    24286\n",
       "I    17514\n",
       "J     6456\n",
       "Name: color, dtype: int64"
      ]
     },
     "execution_count": 92,
     "metadata": {},
     "output_type": "execute_result"
    }
   ],
   "source": [
    "gems_df['color'].value_counts()"
   ]
  },
  {
   "cell_type": "code",
   "execution_count": 93,
   "id": "b86d5d6e-433d-448f-9543-e32c69de8bd7",
   "metadata": {},
   "outputs": [
    {
     "data": {
      "text/plain": [
       "<Axes: xlabel='color', ylabel='price'>"
      ]
     },
     "execution_count": 93,
     "metadata": {},
     "output_type": "execute_result"
    },
    {
     "data": {
      "image/png": "[encoded data removed]",
      "text/plain": [
       "<Figure size 640x480 with 1 Axes>"
      ]
     },
     "metadata": {},
     "output_type": "display_data"
    }
   ],
   "source": [
    "sns.boxplot(gems_df, x='color', y='price')"
   ]
  },
  {
   "cell_type": "code",
   "execution_count": 114,
   "id": "d0d8eef8-0452-4fb0-8ea5-81404cb61456",
   "metadata": {},
   "outputs": [
    {
     "name": "stdout",
     "output_type": "stream",
     "text": [
      "Mean price in D: 2976\n",
      "Median price in D: 1768\n",
      "Mean price in E: 2991\n",
      "Median price in E: 1700\n",
      "Mean price in F: 3652\n",
      "Median price in F: 2347\n",
      "Mean price in G: 4113\n",
      "Median price in G: 2337\n",
      "Mean price in H: 4777\n",
      "Median price in H: 3992\n",
      "Mean price in I: 5524\n",
      "Median price in I: 4073\n",
      "Mean price in J: 5756\n",
      "Median price in J: 4434\n",
      "[('D', 2976.19422712674), ('E', 2991.4542641277985), ('F', 3652.346079747796), ('G', 4113.443175418441), ('H', 4776.554530991266), ('I', 5523.764930912413), ('J', 5756.311183395291)]\n"
     ]
    }
   ],
   "source": [
    "mean_prices_color = []\n",
    "median_prices_color = []\n",
    "mean_prices_color_dict = {}\n",
    "\n",
    "for group_name, group_df in gems_df.groupby('color'):\n",
    "    print('Mean price in {}: {}'.format(group_name, str(round(group_df['price'].mean()))))\n",
    "    mean_prices_color.append(group_df['price'].mean())\n",
    "    \n",
    "    mean_prices_color_dict[group_name] = group_df['price'].mean()\n",
    "    \n",
    "    print('Median price in {}: {}'.format(group_name, str(round(group_df['price'].median()))))\n",
    "    median_prices_color.append(group_df['price'].median())\n",
    "    \n",
    "print(sorted(mean_prices_color_dict.items(), key=lambda color_obj: color_obj[1]))"
   ]
  },
  {
   "cell_type": "code",
   "execution_count": 115,
   "id": "12a24a7c-0f8d-4558-8bdf-ed13c18641fc",
   "metadata": {},
   "outputs": [
    {
     "data": {
      "text/plain": [
       "[<matplotlib.lines.Line2D at 0x7f0e68953220>]"
      ]
     },
     "execution_count": 115,
     "metadata": {},
     "output_type": "execute_result"
    },
    {
     "data": {
      "image/png": "[encoded data removed]",
      "text/plain": [
       "<Figure size 640x480 with 1 Axes>"
      ]
     },
     "metadata": {},
     "output_type": "display_data"
    }
   ],
   "source": [
    "plt.plot(mean_prices_color)\n",
    "plt.plot(median_prices_color)"
   ]
  },
  {
   "cell_type": "code",
   "execution_count": 96,
   "id": "63332ac0-a8e8-45c3-9760-5cf430e38bf5",
   "metadata": {},
   "outputs": [],
   "source": [
    "ordinal_encoder_color = OrdinalEncoder(categories=[['D', 'E', 'F', 'G', 'H', 'I', 'J']])"
   ]
  },
  {
   "cell_type": "code",
   "execution_count": 97,
   "id": "044d1cce-280c-40d7-9d8d-9908ba477a0c",
   "metadata": {},
   "outputs": [],
   "source": [
    "color_ordinal_encoded = ordinal_encoder_color.fit_transform(gems_df[['color']])"
   ]
  },
  {
   "cell_type": "code",
   "execution_count": 98,
   "id": "f4d153d9-7a23-47f5-8abc-b0763307e505",
   "metadata": {},
   "outputs": [],
   "source": [
    "gems_df['color_ordinal_encoded'] = color_ordinal_encoded.reshape(1, -1)[0]"
   ]
  },
  {
   "cell_type": "code",
   "execution_count": 99,
   "id": "dae17e4f-e14e-4c2f-a596-d4a02ee4ef2b",
   "metadata": {},
   "outputs": [
    {
     "data": {
      "text/html": [
       "<div>\n",
       "<style scoped>\n",
       "    .dataframe tbody tr th:only-of-type {\n",
       "        vertical-align: middle;\n",
       "    }\n",
       "\n",
       "    .dataframe tbody tr th {\n",
       "        vertical-align: top;\n",
       "    }\n",
       "\n",
       "    .dataframe thead th {\n",
       "        text-align: right;\n",
       "    }\n",
       "</style>\n",
       "<table border=\"1\" class=\"dataframe\">\n",
       "  <thead>\n",
       "    <tr style=\"text-align: right;\">\n",
       "      <th></th>\n",
       "      <th>id</th>\n",
       "      <th>carat</th>\n",
       "      <th>cut</th>\n",
       "      <th>color</th>\n",
       "      <th>clarity</th>\n",
       "      <th>depth</th>\n",
       "      <th>table</th>\n",
       "      <th>x</th>\n",
       "      <th>y</th>\n",
       "      <th>z</th>\n",
       "      <th>price</th>\n",
       "      <th>cut_ordinal_encoded</th>\n",
       "      <th>color_ordinal_encoded</th>\n",
       "    </tr>\n",
       "  </thead>\n",
       "  <tbody>\n",
       "    <tr>\n",
       "      <th>0</th>\n",
       "      <td>0</td>\n",
       "      <td>1.52</td>\n",
       "      <td>Premium</td>\n",
       "      <td>F</td>\n",
       "      <td>VS2</td>\n",
       "      <td>62.2</td>\n",
       "      <td>58.0</td>\n",
       "      <td>7.27</td>\n",
       "      <td>7.33</td>\n",
       "      <td>4.55</td>\n",
       "      <td>13619</td>\n",
       "      <td>3.0</td>\n",
       "      <td>2.0</td>\n",
       "    </tr>\n",
       "    <tr>\n",
       "      <th>1</th>\n",
       "      <td>1</td>\n",
       "      <td>2.03</td>\n",
       "      <td>Very Good</td>\n",
       "      <td>J</td>\n",
       "      <td>SI2</td>\n",
       "      <td>62.0</td>\n",
       "      <td>58.0</td>\n",
       "      <td>8.06</td>\n",
       "      <td>8.12</td>\n",
       "      <td>5.05</td>\n",
       "      <td>13387</td>\n",
       "      <td>1.0</td>\n",
       "      <td>6.0</td>\n",
       "    </tr>\n",
       "    <tr>\n",
       "      <th>2</th>\n",
       "      <td>2</td>\n",
       "      <td>0.70</td>\n",
       "      <td>Ideal</td>\n",
       "      <td>G</td>\n",
       "      <td>VS1</td>\n",
       "      <td>61.2</td>\n",
       "      <td>57.0</td>\n",
       "      <td>5.69</td>\n",
       "      <td>5.73</td>\n",
       "      <td>3.50</td>\n",
       "      <td>2772</td>\n",
       "      <td>0.0</td>\n",
       "      <td>3.0</td>\n",
       "    </tr>\n",
       "    <tr>\n",
       "      <th>3</th>\n",
       "      <td>3</td>\n",
       "      <td>0.32</td>\n",
       "      <td>Ideal</td>\n",
       "      <td>G</td>\n",
       "      <td>VS1</td>\n",
       "      <td>61.6</td>\n",
       "      <td>56.0</td>\n",
       "      <td>4.38</td>\n",
       "      <td>4.41</td>\n",
       "      <td>2.71</td>\n",
       "      <td>666</td>\n",
       "      <td>0.0</td>\n",
       "      <td>3.0</td>\n",
       "    </tr>\n",
       "    <tr>\n",
       "      <th>4</th>\n",
       "      <td>4</td>\n",
       "      <td>1.70</td>\n",
       "      <td>Premium</td>\n",
       "      <td>G</td>\n",
       "      <td>VS2</td>\n",
       "      <td>62.6</td>\n",
       "      <td>59.0</td>\n",
       "      <td>7.65</td>\n",
       "      <td>7.61</td>\n",
       "      <td>4.77</td>\n",
       "      <td>14453</td>\n",
       "      <td>3.0</td>\n",
       "      <td>3.0</td>\n",
       "    </tr>\n",
       "    <tr>\n",
       "      <th>5</th>\n",
       "      <td>5</td>\n",
       "      <td>1.51</td>\n",
       "      <td>Very Good</td>\n",
       "      <td>J</td>\n",
       "      <td>SI1</td>\n",
       "      <td>62.8</td>\n",
       "      <td>58.0</td>\n",
       "      <td>7.34</td>\n",
       "      <td>7.29</td>\n",
       "      <td>4.59</td>\n",
       "      <td>7506</td>\n",
       "      <td>1.0</td>\n",
       "      <td>6.0</td>\n",
       "    </tr>\n",
       "    <tr>\n",
       "      <th>6</th>\n",
       "      <td>6</td>\n",
       "      <td>0.74</td>\n",
       "      <td>Ideal</td>\n",
       "      <td>E</td>\n",
       "      <td>VS2</td>\n",
       "      <td>61.8</td>\n",
       "      <td>57.0</td>\n",
       "      <td>5.76</td>\n",
       "      <td>5.79</td>\n",
       "      <td>3.57</td>\n",
       "      <td>3229</td>\n",
       "      <td>0.0</td>\n",
       "      <td>1.0</td>\n",
       "    </tr>\n",
       "    <tr>\n",
       "      <th>7</th>\n",
       "      <td>7</td>\n",
       "      <td>1.34</td>\n",
       "      <td>Premium</td>\n",
       "      <td>G</td>\n",
       "      <td>SI2</td>\n",
       "      <td>62.5</td>\n",
       "      <td>57.0</td>\n",
       "      <td>7.00</td>\n",
       "      <td>7.05</td>\n",
       "      <td>4.38</td>\n",
       "      <td>6224</td>\n",
       "      <td>3.0</td>\n",
       "      <td>3.0</td>\n",
       "    </tr>\n",
       "    <tr>\n",
       "      <th>8</th>\n",
       "      <td>8</td>\n",
       "      <td>0.30</td>\n",
       "      <td>Ideal</td>\n",
       "      <td>F</td>\n",
       "      <td>IF</td>\n",
       "      <td>62.0</td>\n",
       "      <td>56.0</td>\n",
       "      <td>4.35</td>\n",
       "      <td>4.37</td>\n",
       "      <td>2.70</td>\n",
       "      <td>886</td>\n",
       "      <td>0.0</td>\n",
       "      <td>2.0</td>\n",
       "    </tr>\n",
       "    <tr>\n",
       "      <th>9</th>\n",
       "      <td>9</td>\n",
       "      <td>0.30</td>\n",
       "      <td>Good</td>\n",
       "      <td>J</td>\n",
       "      <td>VS1</td>\n",
       "      <td>63.6</td>\n",
       "      <td>57.0</td>\n",
       "      <td>4.26</td>\n",
       "      <td>4.28</td>\n",
       "      <td>2.72</td>\n",
       "      <td>421</td>\n",
       "      <td>2.0</td>\n",
       "      <td>6.0</td>\n",
       "    </tr>\n",
       "  </tbody>\n",
       "</table>\n",
       "</div>"
      ],
      "text/plain": [
       "   id  carat        cut color clarity  depth  table     x     y     z  price  \\\n",
       "0   0   1.52    Premium     F     VS2   62.2   58.0  7.27  7.33  4.55  13619   \n",
       "1   1   2.03  Very Good     J     SI2   62.0   58.0  8.06  8.12  5.05  13387   \n",
       "2   2   0.70      Ideal     G     VS1   61.2   57.0  5.69  5.73  3.50   2772   \n",
       "3   3   0.32      Ideal     G     VS1   61.6   56.0  4.38  4.41  2.71    666   \n",
       "4   4   1.70    Premium     G     VS2   62.6   59.0  7.65  7.61  4.77  14453   \n",
       "5   5   1.51  Very Good     J     SI1   62.8   58.0  7.34  7.29  4.59   7506   \n",
       "6   6   0.74      Ideal     E     VS2   61.8   57.0  5.76  5.79  3.57   3229   \n",
       "7   7   1.34    Premium     G     SI2   62.5   57.0  7.00  7.05  4.38   6224   \n",
       "8   8   0.30      Ideal     F      IF   62.0   56.0  4.35  4.37  2.70    886   \n",
       "9   9   0.30       Good     J     VS1   63.6   57.0  4.26  4.28  2.72    421   \n",
       "\n",
       "   cut_ordinal_encoded  color_ordinal_encoded  \n",
       "0                  3.0                    2.0  \n",
       "1                  1.0                    6.0  \n",
       "2                  0.0                    3.0  \n",
       "3                  0.0                    3.0  \n",
       "4                  3.0                    3.0  \n",
       "5                  1.0                    6.0  \n",
       "6                  0.0                    1.0  \n",
       "7                  3.0                    3.0  \n",
       "8                  0.0                    2.0  \n",
       "9                  2.0                    6.0  "
      ]
     },
     "execution_count": 99,
     "metadata": {},
     "output_type": "execute_result"
    }
   ],
   "source": [
    "gems_df.head(10)"
   ]
  },
  {
   "cell_type": "code",
   "execution_count": 100,
   "id": "4277da26-8ba2-411b-86f9-94e08f44338c",
   "metadata": {},
   "outputs": [],
   "source": [
    "gems_df_corr = gems_df.select_dtypes(np.number).corr()"
   ]
  },
  {
   "cell_type": "code",
   "execution_count": 101,
   "id": "56c67a70-854a-4ff5-81c3-d3c5ac280e59",
   "metadata": {},
   "outputs": [
    {
     "data": {
      "text/plain": [
       "id                      -0.001392\n",
       "carat                    0.943396\n",
       "depth                    0.001880\n",
       "table                    0.174915\n",
       "x                        0.901004\n",
       "y                        0.901033\n",
       "z                        0.893037\n",
       "price                    1.000000\n",
       "cut_ordinal_encoded      0.143015\n",
       "color_ordinal_encoded    0.210859\n",
       "Name: price, dtype: float64"
      ]
     },
     "execution_count": 101,
     "metadata": {},
     "output_type": "execute_result"
    }
   ],
   "source": [
    "gems_df_corr['price']"
   ]
  },
  {
   "cell_type": "markdown",
   "id": "8f9bae21-44e4-4c63-8625-c614c51376a9",
   "metadata": {},
   "source": [
    "There seems to be very weak correlation between color and price"
   ]
  },
  {
   "cell_type": "markdown",
   "id": "f4832876-3005-4dfb-873b-b6bff572b6a5",
   "metadata": {},
   "source": [
    "#### Clarity"
   ]
  },
  {
   "cell_type": "code",
   "execution_count": 102,
   "id": "892a4824-7ef0-4fc1-808d-1ad08bf0080e",
   "metadata": {},
   "outputs": [
    {
     "data": {
      "text/plain": [
       "SI1     53272\n",
       "VS2     48027\n",
       "VS1     30669\n",
       "SI2     30484\n",
       "VVS2    15762\n",
       "VVS1    10628\n",
       "IF       4219\n",
       "I1        512\n",
       "Name: clarity, dtype: int64"
      ]
     },
     "execution_count": 102,
     "metadata": {},
     "output_type": "execute_result"
    }
   ],
   "source": [
    "gems_df['clarity'].value_counts()"
   ]
  },
  {
   "cell_type": "code",
   "execution_count": 103,
   "id": "2b6c2ad9-d971-46cf-aae0-fd5ab306c491",
   "metadata": {},
   "outputs": [
    {
     "data": {
      "text/plain": [
       "<Axes: xlabel='clarity', ylabel='price'>"
      ]
     },
     "execution_count": 103,
     "metadata": {},
     "output_type": "execute_result"
    },
    {
     "data": {
      "image/png": "[encoded data removed]",
      "text/plain": [
       "<Figure size 640x480 with 1 Axes>"
      ]
     },
     "metadata": {},
     "output_type": "display_data"
    }
   ],
   "source": [
    "sns.boxplot(gems_df, x='clarity', y='price')"
   ]
  },
  {
   "cell_type": "code",
   "execution_count": 111,
   "id": "57f7dadd-aee5-46cd-a3ad-3faf063bd1f1",
   "metadata": {},
   "outputs": [
    {
     "name": "stdout",
     "output_type": "stream",
     "text": [
      "Mean price in I1: 3540\n",
      "Median price in I1: 3358\n",
      "Mean price in IF: 2127\n",
      "Median price in IF: 979\n",
      "Mean price in SI1: 4141\n",
      "Median price in SI1: 2970\n",
      "Mean price in SI2: 5220\n",
      "Median price in SI2: 4144\n",
      "Mean price in VS1: 3758\n",
      "Median price in VS1: 1908\n",
      "Mean price in VS2: 4048\n",
      "Median price in VS2: 2079\n",
      "Mean price in VVS1: 2013\n",
      "Median price in VVS1: 1013\n",
      "Mean price in VVS2: 2966\n",
      "Median price in VVS2: 1129\n",
      "[('VVS1', 2013.4400639819346), ('IF', 2126.509836454136), ('VVS2', 2966.0130694074355), ('I1', 3540.162109375), ('VS1', 3758.400534741922), ('VS2', 4047.61767339205), ('SI1', 4140.760681033188), ('SI2', 5220.441903949613)]\n"
     ]
    }
   ],
   "source": [
    "mean_prices_clarity = []\n",
    "median_prices_clarity = []\n",
    "mean_prices_clarity_dict = {}\n",
    "\n",
    "for group_name, group_df in gems_df.groupby('clarity'):\n",
    "    print('Mean price in {}: {}'.format(group_name, str(round(group_df['price'].mean()))))\n",
    "    mean_prices_clarity.append(group_df['price'].mean())\n",
    "    \n",
    "    mean_prices_clarity_dict[group_name] = group_df['price'].mean()\n",
    "    \n",
    "    print('Median price in {}: {}'.format(group_name, str(round(group_df['price'].median()))))\n",
    "    median_prices_clarity.append(group_df['price'].median())\n",
    "    \n",
    "print(sorted(mean_prices_clarity_dict.items(), key=lambda color_obj: color_obj[1]))"
   ]
  },
  {
   "cell_type": "code",
   "execution_count": 112,
   "id": "3f0fb189-9bb6-4e52-bbb7-230b471c4f06",
   "metadata": {},
   "outputs": [
    {
     "data": {
      "text/plain": [
       "[<matplotlib.lines.Line2D at 0x7f0e69387d60>]"
      ]
     },
     "execution_count": 112,
     "metadata": {},
     "output_type": "execute_result"
    },
    {
     "data": {
      "image/png": "[encoded data removed]",
      "text/plain": [
       "<Figure size 640x480 with 1 Axes>"
      ]
     },
     "metadata": {},
     "output_type": "display_data"
    }
   ],
   "source": [
    "plt.plot(mean_prices_clarity)\n",
    "plt.plot(median_prices_clarity)"
   ]
  },
  {
   "cell_type": "code",
   "execution_count": 116,
   "id": "5a58e94f-580a-4935-b431-1d1cda6683ea",
   "metadata": {},
   "outputs": [],
   "source": [
    "ordinal_encoder_clarity = OrdinalEncoder(categories=[['VVS1', 'IF', 'VVS2', 'I1', 'VS1', 'VS2', 'SI1', 'SI2']])"
   ]
  },
  {
   "cell_type": "code",
   "execution_count": 117,
   "id": "613c9e7b-b2ac-4186-8942-33448d909d33",
   "metadata": {},
   "outputs": [],
   "source": [
    "clarity_ordinal_encoded = ordinal_encoder_clarity.fit_transform(gems_df[['clarity']])"
   ]
  },
  {
   "cell_type": "code",
   "execution_count": 118,
   "id": "1193b1d6-4114-4d83-95ad-cf915bcbfa17",
   "metadata": {},
   "outputs": [],
   "source": [
    "gems_df['clarity_ordinal_encoded'] = clarity_ordinal_encoded.reshape(1, -1)[0]"
   ]
  },
  {
   "cell_type": "markdown",
   "id": "4d90c997-a3f0-48d3-8c1e-e752dce3c871",
   "metadata": {},
   "source": [
    "gems_df.head(10)"
   ]
  },
  {
   "cell_type": "code",
   "execution_count": 120,
   "id": "6bc55098-52b1-4119-80b1-73b30cf8217f",
   "metadata": {},
   "outputs": [],
   "source": [
    "gems_df_corr = gems_df.select_dtypes(np.number).corr()"
   ]
  },
  {
   "cell_type": "code",
   "execution_count": 121,
   "id": "5d3518d4-cb9e-4264-ac66-e68a70f1298f",
   "metadata": {},
   "outputs": [
    {
     "data": {
      "text/plain": [
       "id                        -0.001392\n",
       "carat                      0.943396\n",
       "depth                      0.001880\n",
       "table                      0.174915\n",
       "x                          0.901004\n",
       "y                          0.901033\n",
       "z                          0.893037\n",
       "price                      1.000000\n",
       "cut_ordinal_encoded        0.143015\n",
       "color_ordinal_encoded      0.210859\n",
       "clarity_ordinal_encoded    0.188188\n",
       "Name: price, dtype: float64"
      ]
     },
     "execution_count": 121,
     "metadata": {},
     "output_type": "execute_result"
    }
   ],
   "source": [
    "gems_df_corr['price']"
   ]
  },
  {
   "cell_type": "markdown",
   "id": "f739c0c1-89f6-493c-8070-8ab00e9b734f",
   "metadata": {},
   "source": [
    "There seems yo be weak corelation between clarity and price"
   ]
  },
  {
   "cell_type": "markdown",
   "id": "7f74fc47-bfc4-4f68-971a-5ce06de6b01c",
   "metadata": {},
   "source": [
    "### Lets Check All Correlations"
   ]
  },
  {
   "cell_type": "code",
   "execution_count": 123,
   "id": "3659363f-2710-4d09-a29d-0eb06a0c7524",
   "metadata": {},
   "outputs": [
    {
     "data": {
      "text/html": [
       "<div>\n",
       "<style scoped>\n",
       "    .dataframe tbody tr th:only-of-type {\n",
       "        vertical-align: middle;\n",
       "    }\n",
       "\n",
       "    .dataframe tbody tr th {\n",
       "        vertical-align: top;\n",
       "    }\n",
       "\n",
       "    .dataframe thead th {\n",
       "        text-align: right;\n",
       "    }\n",
       "</style>\n",
       "<table border=\"1\" class=\"dataframe\">\n",
       "  <thead>\n",
       "    <tr style=\"text-align: right;\">\n",
       "      <th></th>\n",
       "      <th>id</th>\n",
       "      <th>carat</th>\n",
       "      <th>depth</th>\n",
       "      <th>table</th>\n",
       "      <th>x</th>\n",
       "      <th>y</th>\n",
       "      <th>z</th>\n",
       "      <th>price</th>\n",
       "      <th>cut_ordinal_encoded</th>\n",
       "      <th>color_ordinal_encoded</th>\n",
       "      <th>clarity_ordinal_encoded</th>\n",
       "    </tr>\n",
       "  </thead>\n",
       "  <tbody>\n",
       "    <tr>\n",
       "      <th>id</th>\n",
       "      <td>1.000000</td>\n",
       "      <td>-0.000771</td>\n",
       "      <td>0.002647</td>\n",
       "      <td>0.002448</td>\n",
       "      <td>-0.000476</td>\n",
       "      <td>-0.000448</td>\n",
       "      <td>0.000037</td>\n",
       "      <td>-0.001392</td>\n",
       "      <td>0.003685</td>\n",
       "      <td>-0.001267</td>\n",
       "      <td>0.003199</td>\n",
       "    </tr>\n",
       "    <tr>\n",
       "      <th>carat</th>\n",
       "      <td>-0.000771</td>\n",
       "      <td>1.000000</td>\n",
       "      <td>0.027852</td>\n",
       "      <td>0.225737</td>\n",
       "      <td>0.980563</td>\n",
       "      <td>0.980161</td>\n",
       "      <td>0.974274</td>\n",
       "      <td>0.943396</td>\n",
       "      <td>0.194098</td>\n",
       "      <td>0.292400</td>\n",
       "      <td>0.338794</td>\n",
       "    </tr>\n",
       "    <tr>\n",
       "      <th>depth</th>\n",
       "      <td>0.002647</td>\n",
       "      <td>0.027852</td>\n",
       "      <td>1.000000</td>\n",
       "      <td>-0.230631</td>\n",
       "      <td>-0.010762</td>\n",
       "      <td>-0.011653</td>\n",
       "      <td>0.081821</td>\n",
       "      <td>0.001880</td>\n",
       "      <td>-0.025388</td>\n",
       "      <td>0.035517</td>\n",
       "      <td>0.054712</td>\n",
       "    </tr>\n",
       "    <tr>\n",
       "      <th>table</th>\n",
       "      <td>0.002448</td>\n",
       "      <td>0.225737</td>\n",
       "      <td>-0.230631</td>\n",
       "      <td>1.000000</td>\n",
       "      <td>0.237578</td>\n",
       "      <td>0.233299</td>\n",
       "      <td>0.212208</td>\n",
       "      <td>0.174915</td>\n",
       "      <td>0.602154</td>\n",
       "      <td>0.034978</td>\n",
       "      <td>0.175033</td>\n",
       "    </tr>\n",
       "    <tr>\n",
       "      <th>x</th>\n",
       "      <td>-0.000476</td>\n",
       "      <td>0.980563</td>\n",
       "      <td>-0.010762</td>\n",
       "      <td>0.237578</td>\n",
       "      <td>1.000000</td>\n",
       "      <td>0.999109</td>\n",
       "      <td>0.989724</td>\n",
       "      <td>0.901004</td>\n",
       "      <td>0.199447</td>\n",
       "      <td>0.269394</td>\n",
       "      <td>0.366983</td>\n",
       "    </tr>\n",
       "    <tr>\n",
       "      <th>y</th>\n",
       "      <td>-0.000448</td>\n",
       "      <td>0.980161</td>\n",
       "      <td>-0.011653</td>\n",
       "      <td>0.233299</td>\n",
       "      <td>0.999109</td>\n",
       "      <td>1.000000</td>\n",
       "      <td>0.989527</td>\n",
       "      <td>0.901033</td>\n",
       "      <td>0.189292</td>\n",
       "      <td>0.269509</td>\n",
       "      <td>0.365481</td>\n",
       "    </tr>\n",
       "    <tr>\n",
       "      <th>z</th>\n",
       "      <td>0.000037</td>\n",
       "      <td>0.974274</td>\n",
       "      <td>0.081821</td>\n",
       "      <td>0.212208</td>\n",
       "      <td>0.989724</td>\n",
       "      <td>0.989527</td>\n",
       "      <td>1.000000</td>\n",
       "      <td>0.893037</td>\n",
       "      <td>0.190278</td>\n",
       "      <td>0.270132</td>\n",
       "      <td>0.367579</td>\n",
       "    </tr>\n",
       "    <tr>\n",
       "      <th>price</th>\n",
       "      <td>-0.001392</td>\n",
       "      <td>0.943396</td>\n",
       "      <td>0.001880</td>\n",
       "      <td>0.174915</td>\n",
       "      <td>0.901004</td>\n",
       "      <td>0.901033</td>\n",
       "      <td>0.893037</td>\n",
       "      <td>1.000000</td>\n",
       "      <td>0.143015</td>\n",
       "      <td>0.210859</td>\n",
       "      <td>0.188188</td>\n",
       "    </tr>\n",
       "    <tr>\n",
       "      <th>cut_ordinal_encoded</th>\n",
       "      <td>0.003685</td>\n",
       "      <td>0.194098</td>\n",
       "      <td>-0.025388</td>\n",
       "      <td>0.602154</td>\n",
       "      <td>0.199447</td>\n",
       "      <td>0.189292</td>\n",
       "      <td>0.190278</td>\n",
       "      <td>0.143015</td>\n",
       "      <td>1.000000</td>\n",
       "      <td>0.041724</td>\n",
       "      <td>0.182546</td>\n",
       "    </tr>\n",
       "    <tr>\n",
       "      <th>color_ordinal_encoded</th>\n",
       "      <td>-0.001267</td>\n",
       "      <td>0.292400</td>\n",
       "      <td>0.035517</td>\n",
       "      <td>0.034978</td>\n",
       "      <td>0.269394</td>\n",
       "      <td>0.269509</td>\n",
       "      <td>0.270132</td>\n",
       "      <td>0.210859</td>\n",
       "      <td>0.041724</td>\n",
       "      <td>1.000000</td>\n",
       "      <td>-0.080217</td>\n",
       "    </tr>\n",
       "    <tr>\n",
       "      <th>clarity_ordinal_encoded</th>\n",
       "      <td>0.003199</td>\n",
       "      <td>0.338794</td>\n",
       "      <td>0.054712</td>\n",
       "      <td>0.175033</td>\n",
       "      <td>0.366983</td>\n",
       "      <td>0.365481</td>\n",
       "      <td>0.367579</td>\n",
       "      <td>0.188188</td>\n",
       "      <td>0.182546</td>\n",
       "      <td>-0.080217</td>\n",
       "      <td>1.000000</td>\n",
       "    </tr>\n",
       "  </tbody>\n",
       "</table>\n",
       "</div>"
      ],
      "text/plain": [
       "                               id     carat     depth     table         x  \\\n",
       "id                       1.000000 -0.000771  0.002647  0.002448 -0.000476   \n",
       "carat                   -0.000771  1.000000  0.027852  0.225737  0.980563   \n",
       "depth                    0.002647  0.027852  1.000000 -0.230631 -0.010762   \n",
       "table                    0.002448  0.225737 -0.230631  1.000000  0.237578   \n",
       "x                       -0.000476  0.980563 -0.010762  0.237578  1.000000   \n",
       "y                       -0.000448  0.980161 -0.011653  0.233299  0.999109   \n",
       "z                        0.000037  0.974274  0.081821  0.212208  0.989724   \n",
       "price                   -0.001392  0.943396  0.001880  0.174915  0.901004   \n",
       "cut_ordinal_encoded      0.003685  0.194098 -0.025388  0.602154  0.199447   \n",
       "color_ordinal_encoded   -0.001267  0.292400  0.035517  0.034978  0.269394   \n",
       "clarity_ordinal_encoded  0.003199  0.338794  0.054712  0.175033  0.366983   \n",
       "\n",
       "                                y         z     price  cut_ordinal_encoded  \\\n",
       "id                      -0.000448  0.000037 -0.001392             0.003685   \n",
       "carat                    0.980161  0.974274  0.943396             0.194098   \n",
       "depth                   -0.011653  0.081821  0.001880            -0.025388   \n",
       "table                    0.233299  0.212208  0.174915             0.602154   \n",
       "x                        0.999109  0.989724  0.901004             0.199447   \n",
       "y                        1.000000  0.989527  0.901033             0.189292   \n",
       "z                        0.989527  1.000000  0.893037             0.190278   \n",
       "price                    0.901033  0.893037  1.000000             0.143015   \n",
       "cut_ordinal_encoded      0.189292  0.190278  0.143015             1.000000   \n",
       "color_ordinal_encoded    0.269509  0.270132  0.210859             0.041724   \n",
       "clarity_ordinal_encoded  0.365481  0.367579  0.188188             0.182546   \n",
       "\n",
       "                         color_ordinal_encoded  clarity_ordinal_encoded  \n",
       "id                                   -0.001267                 0.003199  \n",
       "carat                                 0.292400                 0.338794  \n",
       "depth                                 0.035517                 0.054712  \n",
       "table                                 0.034978                 0.175033  \n",
       "x                                     0.269394                 0.366983  \n",
       "y                                     0.269509                 0.365481  \n",
       "z                                     0.270132                 0.367579  \n",
       "price                                 0.210859                 0.188188  \n",
       "cut_ordinal_encoded                   0.041724                 0.182546  \n",
       "color_ordinal_encoded                 1.000000                -0.080217  \n",
       "clarity_ordinal_encoded              -0.080217                 1.000000  "
      ]
     },
     "execution_count": 123,
     "metadata": {},
     "output_type": "execute_result"
    }
   ],
   "source": [
    "gems_df_corr"
   ]
  },
  {
   "cell_type": "markdown",
   "id": "a0d3790a-08fe-411e-889b-41d1cc1ce850",
   "metadata": {},
   "source": [
    "There seems to be some corellation between table and cut. Lets combine them"
   ]
  },
  {
   "cell_type": "code",
   "execution_count": 127,
   "id": "9f95d9d2-0eb6-4267-80e3-7339a00c0ed5",
   "metadata": {},
   "outputs": [],
   "source": [
    "gems_df['table_by_cut'] = gems_df['table'] * gems_df['cut_ordinal_encoded']"
   ]
  },
  {
   "cell_type": "code",
   "execution_count": 128,
   "id": "f84cc902-3766-4286-b395-1ce06a68b9c1",
   "metadata": {},
   "outputs": [],
   "source": [
    "gems_df_corr = gems_df.select_dtypes(np.number).corr()"
   ]
  },
  {
   "cell_type": "code",
   "execution_count": 129,
   "id": "3cc14a42-397f-4586-ac0b-a25eda2fa39a",
   "metadata": {},
   "outputs": [
    {
     "data": {
      "text/plain": [
       "id                        -0.001392\n",
       "carat                      0.943396\n",
       "depth                      0.001880\n",
       "table                      0.174915\n",
       "x                          0.901004\n",
       "y                          0.901033\n",
       "z                          0.893037\n",
       "price                      1.000000\n",
       "cut_ordinal_encoded        0.143015\n",
       "color_ordinal_encoded      0.210859\n",
       "clarity_ordinal_encoded    0.188188\n",
       "table_by_cut               0.144376\n",
       "Name: price, dtype: float64"
      ]
     },
     "execution_count": 129,
     "metadata": {},
     "output_type": "execute_result"
    }
   ],
   "source": [
    "gems_df_corr['price']"
   ]
  },
  {
   "cell_type": "code",
   "execution_count": null,
   "id": "fea5694e-017d-48ec-a06d-e285ae3a05c1",
   "metadata": {},
   "outputs": [],
   "source": []
  }
 ],
 "metadata": {
  "kernelspec": {
   "display_name": "Python 3 (ipykernel)",
   "language": "python",
   "name": "python3"
  },
  "language_info": {
   "codemirror_mode": {
    "name": "ipython",
    "version": 3
   },
   "file_extension": ".py",
   "mimetype": "text/x-python",
   "name": "python",
   "nbconvert_exporter": "python",
   "pygments_lexer": "ipython3",
   "version": "3.10.10"
  }
 },
 "nbformat": 4,
 "nbformat_minor": 5
}
